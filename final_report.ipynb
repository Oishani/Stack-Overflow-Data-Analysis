{
 "cells": [
  {
   "cell_type": "markdown",
   "metadata": {},
   "source": [
    "# Data Analysis of 2019 Stack Overflow Survey"
   ]
  },
  {
   "cell_type": "markdown",
   "metadata": {},
   "source": [
    "## Introduction"
   ]
  },
  {
   "cell_type": "markdown",
   "metadata": {},
   "source": [
    "1. What is the context of the work? \n",
    "___\n",
    "The following project is an analysis of the results of an annual survey conducted by Stack Overflow on its most engaged contributors and participants. The dataset I am working with is the results from Stack Overflow's 2019 survey. \n",
    "\n",
    "I start by analysing the trends in the developer community of Stack Overflow, and notice some trends based on historgrams, and bar graphs. As an aspiring data scientist, I move on to explore the trends in their community. \n",
    "\n",
    "Thus, after some initial exploration of the trends in the developer community, I drill down to analyse the differences in the trends between data scientists and non-data scientists.\n",
    "\n",
    "\"survey.csv\" is the full, cleaned results of the 2019 Stack Overflow Developer Survey provided by the platform at [this](https://drive.google.com/open?id=1QOmVDpd8hcVYqqUXDXf68UMDWQZP0wQV) URL.\n",
    "___\n",
    "\n",
    "2. What research question are you trying to answer? \n",
    "___\n",
    "I intend on studying the patterns in the developer, and more specifically, the data science community. At a high level, my main goal in the first part of the analysis is to identify trends in the developer community of Stack Overflow, provide insights into what's popular, what isn't, the demand of new and growing technologies, developers' persepectives on practices of the community, and the success and satisfaction rate among developers. But, more specifically, I intend to discover the differences in trends between data scientists and non-data scientists, which I do in the second part. The key questions I am looking to answer through an analysis of this dataset are:\n",
    "\n",
    "* What are some clearly identifiable trends in the developer community?\n",
    "* What is the gender distribution between Data Scientists and Non-data Scientists?\n",
    "* What is the age distribution between Data Scientists and Non-data Scientists?\n",
    "* What is the education level distribution between Data Scientists and Non-data Scientists?\n",
    "* What is the distribution of undergraduate majors between Data Scientists and Non-data Scientists?\n",
    "* What programming languages do data scientists favor and how do they differ from those used by non-data scientists?\n",
    "* How much coding experience do data scientists have compared to non-data scientists?\n",
    "* Are Data Scientists more satisfied with their jobs/careers than Non-data Scientists?\n",
    "* Can we predict the salary of Data Scientists?¶\n",
    "\n",
    "By answering these questions, I hope to give any aspiring developer or data scientist an insight into what the most valuable skills are, how one should prepare him/herself for a career in the field, and what some of the characteristics, and practices are on the job.\n",
    "___\n",
    "3. What are your main findings? \n",
    "\n",
    "    * Certain technologies (programming languages, web frameworks, etc), and skills become all the rage in any given period of time, (~ 5-7 years).\n",
    "    * Other aspects such as code review practices, coding as a hobby, etc., remain more or less stable.\n",
    "\n",
    "Comparing differences between data scientists and non-data scientists, we find that:\n",
    "* The distribution of gender is approximately even\n",
    "* Data scientists seem to be older than other developers\n",
    "* Data scientists are more likely to have continued their education beyond an undergraduate degree\n",
    "* Majority of data scientists have a background in Computer Science as an undergraduate\n",
    "* Python and R are the most popular languages among data scientists while JavaScript is the most popular among other developers\n",
    "* Data scientists have more years of professional coding experience than non-data scientists\n",
    "* They also seem o be more satisfied with their jobs, likely because of the higher pay compared to other developers\n",
    "* However, given all these factors, it is still hard to predict the salary of a data scientist based on this dataset and based on factors that we deem to be determinants of compensation"
   ]
  },
  {
   "cell_type": "markdown",
   "metadata": {},
   "source": [
    "## Data Description "
   ]
  },
  {
   "cell_type": "markdown",
   "metadata": {},
   "source": [
    "1. What are the observations (rows) and the attributes (columns)?\n",
    "___\n",
    "Each observation (row) corresponds to a qualifying responder. Each attribute (column) corresponds to a question on the survey.\n",
    "___\n",
    "2. Why was this dataset created?\n",
    "___\n",
    "Stack Overflow’s annual Developer Survey is the largest and most comprehensive survey of people who code around the world. It is simply an annual practice of the platform to gather data on their users to identify trends in the community and improve their platform with the help of the results they find and feedback they receive. Each year, Stack Overflow fields this survey covering everything from developers’ favorite technologies to their job preferences. 2019 marked the ninth year they’ve published their annual Developer Survey results, and nearly 90,000 developers took the 20-minute survey earlier that year. The survey was fielded from January 23 to February 14, 2019.\n",
    "___\n",
    "3. Who funded the creation of the dataset?\n",
    "___\n",
    "Stack Overflow\n",
    "___\n",
    "4. What processes might have influenced what data was observed and recorded and what was not?\n",
    "___\n",
    "Free response submissions and personally identifying information have been removed from the results to protect the privacy of respondents. \"survey.csv\" contains the results of a survey of 88,883 software developers from 179 countries around the world.\n",
    "\n",
    "The survey wasn't accessible to the entire world in 2019. Traffic from Crimea, Cuba, Iran, North Korea, and Syria was blocked by Stack Overflow's third party survey software due to United States transport/export sanctions at the time, although some respondents used VPNs to avoid this.\n",
    "___\n",
    "5. What preprocessing was done, and how did the data come to be in the form that you are using?\n",
    "___\n",
    "Stack Overflow only states that the current form of the data is the full \"cleaned\" results of the survey. What sort of preprocessing or cleaning processes were made use of are undisclosed.\n",
    "___\n",
    "6. If people are involved, were they aware of the data collection and if so, what purpose did they expect the data to be used for?\n",
    "___\n",
    "Yes, the people were aware of the data collection since this was a survey in which particpation was completely voluntary. \n",
    "\n",
    "Respondents were recruited primarily through channels owned by Stack Overflow. The top 5 sources of respondents were onsite messaging, blog posts, email lists, Meta posts, banner ads, and social media posts. Since respondents were recruited in this way, highly engaged users on Stack Overflow were more likely to notice the links for the survey and click to begin it.\n",
    "\n",
    "As an incentive, respondents who finished the survey could opt in to a \"Census\" badge if they completed the survey.\n",
    "___\n",
    "7. Where can your raw source data be found, if applicable? Provide a link to the raw data (hosted in a Cornell Google Drive or Cornell Box). \n",
    "___\n",
    "[Raw source data](https://cornell.box.com/s/oycokpi6x056bhxgma8r3wthiobvduis)\n",
    "___\n",
    "\n",
    "_Information source: [Stack Overflow](https://insights.stackoverflow.com/survey/2019)._"
   ]
  },
  {
   "cell_type": "markdown",
   "metadata": {},
   "source": [
    "## Data Analysis"
   ]
  },
  {
   "cell_type": "markdown",
   "metadata": {},
   "source": [
    "* Use summary functions like mean and standard deviation along with visual displays like scatter plots and histograms to describe data.\n",
    "* Provide at least one model showing patterns or relationships between variables that addresses your research question. This could be a regression or clustering, or something else that measures some property of the dataset."
   ]
  },
  {
   "cell_type": "markdown",
   "metadata": {},
   "source": [
    "### Data Collection"
   ]
  },
  {
   "cell_type": "markdown",
   "metadata": {},
   "source": [
    "Loading libraries"
   ]
  },
  {
   "cell_type": "code",
   "execution_count": 1,
   "metadata": {},
   "outputs": [],
   "source": [
    "import numpy as np\n",
    "import pandas as pd\n",
    "import seaborn as sns\n",
    "import matplotlib.pyplot as plt\n",
    "import scipy.stats\n",
    "import warnings\n",
    "from collections import Counter\n",
    "import statsmodels.api as sm\n",
    "from sklearn.model_selection import train_test_split\n",
    "\n",
    "warnings.simplefilter('ignore')"
   ]
  },
  {
   "cell_type": "markdown",
   "metadata": {},
   "source": [
    "Reading CSV file of the results"
   ]
  },
  {
   "cell_type": "code",
   "execution_count": 2,
   "metadata": {},
   "outputs": [
    {
     "data": {
      "text/html": [
       "<div>\n",
       "<style scoped>\n",
       "    .dataframe tbody tr th:only-of-type {\n",
       "        vertical-align: middle;\n",
       "    }\n",
       "\n",
       "    .dataframe tbody tr th {\n",
       "        vertical-align: top;\n",
       "    }\n",
       "\n",
       "    .dataframe thead th {\n",
       "        text-align: right;\n",
       "    }\n",
       "</style>\n",
       "<table border=\"1\" class=\"dataframe\">\n",
       "  <thead>\n",
       "    <tr style=\"text-align: right;\">\n",
       "      <th></th>\n",
       "      <th>Respondent</th>\n",
       "      <th>MainBranch</th>\n",
       "      <th>Hobbyist</th>\n",
       "      <th>OpenSourcer</th>\n",
       "      <th>OpenSource</th>\n",
       "      <th>Employment</th>\n",
       "      <th>Country</th>\n",
       "      <th>Student</th>\n",
       "      <th>EdLevel</th>\n",
       "      <th>UndergradMajor</th>\n",
       "      <th>...</th>\n",
       "      <th>WelcomeChange</th>\n",
       "      <th>SONewContent</th>\n",
       "      <th>Age</th>\n",
       "      <th>Gender</th>\n",
       "      <th>Trans</th>\n",
       "      <th>Sexuality</th>\n",
       "      <th>Ethnicity</th>\n",
       "      <th>Dependents</th>\n",
       "      <th>SurveyLength</th>\n",
       "      <th>SurveyEase</th>\n",
       "    </tr>\n",
       "  </thead>\n",
       "  <tbody>\n",
       "    <tr>\n",
       "      <td>0</td>\n",
       "      <td>1</td>\n",
       "      <td>I am a student who is learning to code</td>\n",
       "      <td>Yes</td>\n",
       "      <td>Never</td>\n",
       "      <td>The quality of OSS and closed source software ...</td>\n",
       "      <td>Not employed, and not looking for work</td>\n",
       "      <td>United Kingdom</td>\n",
       "      <td>No</td>\n",
       "      <td>Primary/elementary school</td>\n",
       "      <td>NaN</td>\n",
       "      <td>...</td>\n",
       "      <td>Just as welcome now as I felt last year</td>\n",
       "      <td>Tech articles written by other developers;Indu...</td>\n",
       "      <td>14.0</td>\n",
       "      <td>Man</td>\n",
       "      <td>No</td>\n",
       "      <td>Straight / Heterosexual</td>\n",
       "      <td>NaN</td>\n",
       "      <td>No</td>\n",
       "      <td>Appropriate in length</td>\n",
       "      <td>Neither easy nor difficult</td>\n",
       "    </tr>\n",
       "    <tr>\n",
       "      <td>1</td>\n",
       "      <td>2</td>\n",
       "      <td>I am a student who is learning to code</td>\n",
       "      <td>No</td>\n",
       "      <td>Less than once per year</td>\n",
       "      <td>The quality of OSS and closed source software ...</td>\n",
       "      <td>Not employed, but looking for work</td>\n",
       "      <td>Bosnia and Herzegovina</td>\n",
       "      <td>Yes, full-time</td>\n",
       "      <td>Secondary school (e.g. American high school, G...</td>\n",
       "      <td>NaN</td>\n",
       "      <td>...</td>\n",
       "      <td>Just as welcome now as I felt last year</td>\n",
       "      <td>Tech articles written by other developers;Indu...</td>\n",
       "      <td>19.0</td>\n",
       "      <td>Man</td>\n",
       "      <td>No</td>\n",
       "      <td>Straight / Heterosexual</td>\n",
       "      <td>NaN</td>\n",
       "      <td>No</td>\n",
       "      <td>Appropriate in length</td>\n",
       "      <td>Neither easy nor difficult</td>\n",
       "    </tr>\n",
       "    <tr>\n",
       "      <td>2</td>\n",
       "      <td>3</td>\n",
       "      <td>I am not primarily a developer, but I write co...</td>\n",
       "      <td>Yes</td>\n",
       "      <td>Never</td>\n",
       "      <td>The quality of OSS and closed source software ...</td>\n",
       "      <td>Employed full-time</td>\n",
       "      <td>Thailand</td>\n",
       "      <td>No</td>\n",
       "      <td>Bachelor’s degree (BA, BS, B.Eng., etc.)</td>\n",
       "      <td>Web development or web design</td>\n",
       "      <td>...</td>\n",
       "      <td>Just as welcome now as I felt last year</td>\n",
       "      <td>Tech meetups or events in your area;Courses on...</td>\n",
       "      <td>28.0</td>\n",
       "      <td>Man</td>\n",
       "      <td>No</td>\n",
       "      <td>Straight / Heterosexual</td>\n",
       "      <td>NaN</td>\n",
       "      <td>Yes</td>\n",
       "      <td>Appropriate in length</td>\n",
       "      <td>Neither easy nor difficult</td>\n",
       "    </tr>\n",
       "    <tr>\n",
       "      <td>3</td>\n",
       "      <td>4</td>\n",
       "      <td>I am a developer by profession</td>\n",
       "      <td>No</td>\n",
       "      <td>Never</td>\n",
       "      <td>The quality of OSS and closed source software ...</td>\n",
       "      <td>Employed full-time</td>\n",
       "      <td>United States</td>\n",
       "      <td>No</td>\n",
       "      <td>Bachelor’s degree (BA, BS, B.Eng., etc.)</td>\n",
       "      <td>Computer science, computer engineering, or sof...</td>\n",
       "      <td>...</td>\n",
       "      <td>Just as welcome now as I felt last year</td>\n",
       "      <td>Tech articles written by other developers;Indu...</td>\n",
       "      <td>22.0</td>\n",
       "      <td>Man</td>\n",
       "      <td>No</td>\n",
       "      <td>Straight / Heterosexual</td>\n",
       "      <td>White or of European descent</td>\n",
       "      <td>No</td>\n",
       "      <td>Appropriate in length</td>\n",
       "      <td>Easy</td>\n",
       "    </tr>\n",
       "    <tr>\n",
       "      <td>4</td>\n",
       "      <td>5</td>\n",
       "      <td>I am a developer by profession</td>\n",
       "      <td>Yes</td>\n",
       "      <td>Once a month or more often</td>\n",
       "      <td>OSS is, on average, of HIGHER quality than pro...</td>\n",
       "      <td>Employed full-time</td>\n",
       "      <td>Ukraine</td>\n",
       "      <td>No</td>\n",
       "      <td>Bachelor’s degree (BA, BS, B.Eng., etc.)</td>\n",
       "      <td>Computer science, computer engineering, or sof...</td>\n",
       "      <td>...</td>\n",
       "      <td>Just as welcome now as I felt last year</td>\n",
       "      <td>Tech meetups or events in your area;Courses on...</td>\n",
       "      <td>30.0</td>\n",
       "      <td>Man</td>\n",
       "      <td>No</td>\n",
       "      <td>Straight / Heterosexual</td>\n",
       "      <td>White or of European descent;Multiracial</td>\n",
       "      <td>No</td>\n",
       "      <td>Appropriate in length</td>\n",
       "      <td>Easy</td>\n",
       "    </tr>\n",
       "  </tbody>\n",
       "</table>\n",
       "<p>5 rows × 85 columns</p>\n",
       "</div>"
      ],
      "text/plain": [
       "   Respondent                                         MainBranch Hobbyist  \\\n",
       "0           1             I am a student who is learning to code      Yes   \n",
       "1           2             I am a student who is learning to code       No   \n",
       "2           3  I am not primarily a developer, but I write co...      Yes   \n",
       "3           4                     I am a developer by profession       No   \n",
       "4           5                     I am a developer by profession      Yes   \n",
       "\n",
       "                  OpenSourcer  \\\n",
       "0                       Never   \n",
       "1     Less than once per year   \n",
       "2                       Never   \n",
       "3                       Never   \n",
       "4  Once a month or more often   \n",
       "\n",
       "                                          OpenSource  \\\n",
       "0  The quality of OSS and closed source software ...   \n",
       "1  The quality of OSS and closed source software ...   \n",
       "2  The quality of OSS and closed source software ...   \n",
       "3  The quality of OSS and closed source software ...   \n",
       "4  OSS is, on average, of HIGHER quality than pro...   \n",
       "\n",
       "                               Employment                 Country  \\\n",
       "0  Not employed, and not looking for work          United Kingdom   \n",
       "1      Not employed, but looking for work  Bosnia and Herzegovina   \n",
       "2                      Employed full-time                Thailand   \n",
       "3                      Employed full-time           United States   \n",
       "4                      Employed full-time                 Ukraine   \n",
       "\n",
       "          Student                                            EdLevel  \\\n",
       "0              No                          Primary/elementary school   \n",
       "1  Yes, full-time  Secondary school (e.g. American high school, G...   \n",
       "2              No           Bachelor’s degree (BA, BS, B.Eng., etc.)   \n",
       "3              No           Bachelor’s degree (BA, BS, B.Eng., etc.)   \n",
       "4              No           Bachelor’s degree (BA, BS, B.Eng., etc.)   \n",
       "\n",
       "                                      UndergradMajor  ...  \\\n",
       "0                                                NaN  ...   \n",
       "1                                                NaN  ...   \n",
       "2                      Web development or web design  ...   \n",
       "3  Computer science, computer engineering, or sof...  ...   \n",
       "4  Computer science, computer engineering, or sof...  ...   \n",
       "\n",
       "                             WelcomeChange  \\\n",
       "0  Just as welcome now as I felt last year   \n",
       "1  Just as welcome now as I felt last year   \n",
       "2  Just as welcome now as I felt last year   \n",
       "3  Just as welcome now as I felt last year   \n",
       "4  Just as welcome now as I felt last year   \n",
       "\n",
       "                                        SONewContent   Age Gender Trans  \\\n",
       "0  Tech articles written by other developers;Indu...  14.0    Man    No   \n",
       "1  Tech articles written by other developers;Indu...  19.0    Man    No   \n",
       "2  Tech meetups or events in your area;Courses on...  28.0    Man    No   \n",
       "3  Tech articles written by other developers;Indu...  22.0    Man    No   \n",
       "4  Tech meetups or events in your area;Courses on...  30.0    Man    No   \n",
       "\n",
       "                 Sexuality                                 Ethnicity  \\\n",
       "0  Straight / Heterosexual                                       NaN   \n",
       "1  Straight / Heterosexual                                       NaN   \n",
       "2  Straight / Heterosexual                                       NaN   \n",
       "3  Straight / Heterosexual              White or of European descent   \n",
       "4  Straight / Heterosexual  White or of European descent;Multiracial   \n",
       "\n",
       "  Dependents           SurveyLength                  SurveyEase  \n",
       "0         No  Appropriate in length  Neither easy nor difficult  \n",
       "1         No  Appropriate in length  Neither easy nor difficult  \n",
       "2        Yes  Appropriate in length  Neither easy nor difficult  \n",
       "3         No  Appropriate in length                        Easy  \n",
       "4         No  Appropriate in length                        Easy  \n",
       "\n",
       "[5 rows x 85 columns]"
      ]
     },
     "execution_count": 2,
     "metadata": {},
     "output_type": "execute_result"
    }
   ],
   "source": [
    "# reading csv file of survey results\n",
    "results = pd.read_csv(\"survey.csv\")\n",
    "\n",
    "results.head()"
   ]
  },
  {
   "cell_type": "markdown",
   "metadata": {},
   "source": [
    "### Data Wrangling"
   ]
  },
  {
   "cell_type": "markdown",
   "metadata": {},
   "source": [
    "What are the attributes (columns)?"
   ]
  },
  {
   "cell_type": "code",
   "execution_count": 3,
   "metadata": {},
   "outputs": [
    {
     "name": "stdout",
     "output_type": "stream",
     "text": [
      "The attributes (columns) of the dataset are:\n",
      "\n",
      " ['Respondent', 'MainBranch', 'Hobbyist', 'OpenSourcer', 'OpenSource', 'Employment', 'Country', 'Student', 'EdLevel', 'UndergradMajor', 'EduOther', 'OrgSize', 'DevType', 'YearsCode', 'Age1stCode', 'YearsCodePro', 'CareerSat', 'JobSat', 'MgrIdiot', 'MgrMoney', 'MgrWant', 'JobSeek', 'LastHireDate', 'LastInt', 'FizzBuzz', 'JobFactors', 'ResumeUpdate', 'CurrencySymbol', 'CurrencyDesc', 'CompTotal', 'CompFreq', 'ConvertedComp', 'WorkWeekHrs', 'WorkPlan', 'WorkChallenge', 'WorkRemote', 'WorkLoc', 'ImpSyn', 'CodeRev', 'CodeRevHrs', 'UnitTests', 'PurchaseHow', 'PurchaseWhat', 'LanguageWorkedWith', 'LanguageDesireNextYear', 'DatabaseWorkedWith', 'DatabaseDesireNextYear', 'PlatformWorkedWith', 'PlatformDesireNextYear', 'WebFrameWorkedWith', 'WebFrameDesireNextYear', 'MiscTechWorkedWith', 'MiscTechDesireNextYear', 'DevEnviron', 'OpSys', 'Containers', 'BlockchainOrg', 'BlockchainIs', 'BetterLife', 'ITperson', 'OffOn', 'SocialMedia', 'Extraversion', 'ScreenName', 'SOVisit1st', 'SOVisitFreq', 'SOVisitTo', 'SOFindAnswer', 'SOTimeSaved', 'SOHowMuchTime', 'SOAccount', 'SOPartFreq', 'SOJobs', 'EntTeams', 'SOComm', 'WelcomeChange', 'SONewContent', 'Age', 'Gender', 'Trans', 'Sexuality', 'Ethnicity', 'Dependents', 'SurveyLength', 'SurveyEase']\n"
     ]
    }
   ],
   "source": [
    "print(\"The attributes (columns) of the dataset are:\\n\\n\", list(results))"
   ]
  },
  {
   "cell_type": "markdown",
   "metadata": {},
   "source": [
    "What do the column names mean?"
   ]
  },
  {
   "cell_type": "code",
   "execution_count": 4,
   "metadata": {},
   "outputs": [
    {
     "data": {
      "text/html": [
       "<div>\n",
       "<style scoped>\n",
       "    .dataframe tbody tr th:only-of-type {\n",
       "        vertical-align: middle;\n",
       "    }\n",
       "\n",
       "    .dataframe tbody tr th {\n",
       "        vertical-align: top;\n",
       "    }\n",
       "\n",
       "    .dataframe thead th {\n",
       "        text-align: right;\n",
       "    }\n",
       "</style>\n",
       "<table border=\"1\" class=\"dataframe\">\n",
       "  <thead>\n",
       "    <tr style=\"text-align: right;\">\n",
       "      <th></th>\n",
       "      <th>Column</th>\n",
       "      <th>QuestionText</th>\n",
       "    </tr>\n",
       "  </thead>\n",
       "  <tbody>\n",
       "    <tr>\n",
       "      <td>0</td>\n",
       "      <td>Respondent</td>\n",
       "      <td>Randomized respondent ID number (not in order ...</td>\n",
       "    </tr>\n",
       "    <tr>\n",
       "      <td>1</td>\n",
       "      <td>MainBranch</td>\n",
       "      <td>Which of the following options best describes ...</td>\n",
       "    </tr>\n",
       "    <tr>\n",
       "      <td>2</td>\n",
       "      <td>Hobbyist</td>\n",
       "      <td>Do you code as a hobby?</td>\n",
       "    </tr>\n",
       "    <tr>\n",
       "      <td>3</td>\n",
       "      <td>OpenSourcer</td>\n",
       "      <td>How often do you contribute to open source?</td>\n",
       "    </tr>\n",
       "    <tr>\n",
       "      <td>4</td>\n",
       "      <td>OpenSource</td>\n",
       "      <td>How do you feel about the quality of open sour...</td>\n",
       "    </tr>\n",
       "  </tbody>\n",
       "</table>\n",
       "</div>"
      ],
      "text/plain": [
       "        Column                                       QuestionText\n",
       "0   Respondent  Randomized respondent ID number (not in order ...\n",
       "1   MainBranch  Which of the following options best describes ...\n",
       "2     Hobbyist                            Do you code as a hobby?\n",
       "3  OpenSourcer        How often do you contribute to open source?\n",
       "4   OpenSource  How do you feel about the quality of open sour..."
      ]
     },
     "execution_count": 4,
     "metadata": {},
     "output_type": "execute_result"
    }
   ],
   "source": [
    "# reading schema of the survey results table as a csv file\n",
    "schema = pd.read_csv(\"Stack-Overflow-Survey-Details-2019/survey_results_schema.csv\")\n",
    "\n",
    "schema.head()"
   ]
  },
  {
   "cell_type": "markdown",
   "metadata": {},
   "source": [
    "\n",
    "\n",
    "The full schema can be found in the folder \"Stack-Overflow-Survey-Details-2019\" in the file named \"survey_results_schema.csv\". It was provided by Stack Overflow at [this](https://drive.google.com/open?id=1QOmVDpd8hcVYqqUXDXf68UMDWQZP0wQV) URL.\n",
    "\n"
   ]
  },
  {
   "cell_type": "markdown",
   "metadata": {},
   "source": [
    "How many responses over how many attributes are we dealing with?"
   ]
  },
  {
   "cell_type": "code",
   "execution_count": 5,
   "metadata": {},
   "outputs": [
    {
     "name": "stdout",
     "output_type": "stream",
     "text": [
      "Number of responses: 88883\n",
      "Number of atrributes: 85\n"
     ]
    }
   ],
   "source": [
    "# how many responses over how many attributes are we dealing with?\n",
    "print(\"Number of responses:\",results.shape[0])\n",
    "print(\"Number of atrributes:\",results.shape[1])"
   ]
  },
  {
   "cell_type": "markdown",
   "metadata": {},
   "source": [
    "We don't need all the attributes to carry out our analysis. We get rid of the redundant attributes."
   ]
  },
  {
   "cell_type": "code",
   "execution_count": 6,
   "metadata": {},
   "outputs": [
    {
     "data": {
      "text/html": [
       "<div>\n",
       "<style scoped>\n",
       "    .dataframe tbody tr th:only-of-type {\n",
       "        vertical-align: middle;\n",
       "    }\n",
       "\n",
       "    .dataframe tbody tr th {\n",
       "        vertical-align: top;\n",
       "    }\n",
       "\n",
       "    .dataframe thead th {\n",
       "        text-align: right;\n",
       "    }\n",
       "</style>\n",
       "<table border=\"1\" class=\"dataframe\">\n",
       "  <thead>\n",
       "    <tr style=\"text-align: right;\">\n",
       "      <th></th>\n",
       "      <th>Respondent</th>\n",
       "      <th>MainBranch</th>\n",
       "      <th>Hobbyist</th>\n",
       "      <th>OpenSourcer</th>\n",
       "      <th>OpenSource</th>\n",
       "      <th>Employment</th>\n",
       "      <th>Country</th>\n",
       "      <th>EdLevel</th>\n",
       "      <th>UndergradMajor</th>\n",
       "      <th>DevType</th>\n",
       "      <th>...</th>\n",
       "      <th>Containers</th>\n",
       "      <th>BlockchainOrg</th>\n",
       "      <th>BlockchainIs</th>\n",
       "      <th>BetterLife</th>\n",
       "      <th>ITperson</th>\n",
       "      <th>Age</th>\n",
       "      <th>Gender</th>\n",
       "      <th>Trans</th>\n",
       "      <th>Sexuality</th>\n",
       "      <th>Ethnicity</th>\n",
       "    </tr>\n",
       "  </thead>\n",
       "  <tbody>\n",
       "    <tr>\n",
       "      <td>0</td>\n",
       "      <td>1</td>\n",
       "      <td>I am a student who is learning to code</td>\n",
       "      <td>Yes</td>\n",
       "      <td>Never</td>\n",
       "      <td>The quality of OSS and closed source software ...</td>\n",
       "      <td>Not employed, and not looking for work</td>\n",
       "      <td>United Kingdom</td>\n",
       "      <td>Primary/elementary school</td>\n",
       "      <td>NaN</td>\n",
       "      <td>NaN</td>\n",
       "      <td>...</td>\n",
       "      <td>I do not use containers</td>\n",
       "      <td>NaN</td>\n",
       "      <td>NaN</td>\n",
       "      <td>Yes</td>\n",
       "      <td>Fortunately, someone else has that title</td>\n",
       "      <td>14.0</td>\n",
       "      <td>Man</td>\n",
       "      <td>No</td>\n",
       "      <td>Straight / Heterosexual</td>\n",
       "      <td>NaN</td>\n",
       "    </tr>\n",
       "    <tr>\n",
       "      <td>1</td>\n",
       "      <td>2</td>\n",
       "      <td>I am a student who is learning to code</td>\n",
       "      <td>No</td>\n",
       "      <td>Less than once per year</td>\n",
       "      <td>The quality of OSS and closed source software ...</td>\n",
       "      <td>Not employed, but looking for work</td>\n",
       "      <td>Bosnia and Herzegovina</td>\n",
       "      <td>Secondary school (e.g. American high school, G...</td>\n",
       "      <td>NaN</td>\n",
       "      <td>Developer, desktop or enterprise applications;...</td>\n",
       "      <td>...</td>\n",
       "      <td>I do not use containers</td>\n",
       "      <td>NaN</td>\n",
       "      <td>Useful across many domains and could change ma...</td>\n",
       "      <td>Yes</td>\n",
       "      <td>Yes</td>\n",
       "      <td>19.0</td>\n",
       "      <td>Man</td>\n",
       "      <td>No</td>\n",
       "      <td>Straight / Heterosexual</td>\n",
       "      <td>NaN</td>\n",
       "    </tr>\n",
       "    <tr>\n",
       "      <td>2</td>\n",
       "      <td>3</td>\n",
       "      <td>I am not primarily a developer, but I write co...</td>\n",
       "      <td>Yes</td>\n",
       "      <td>Never</td>\n",
       "      <td>The quality of OSS and closed source software ...</td>\n",
       "      <td>Employed full-time</td>\n",
       "      <td>Thailand</td>\n",
       "      <td>Bachelor’s degree (BA, BS, B.Eng., etc.)</td>\n",
       "      <td>Web development or web design</td>\n",
       "      <td>Designer;Developer, back-end;Developer, front-...</td>\n",
       "      <td>...</td>\n",
       "      <td>I do not use containers</td>\n",
       "      <td>NaN</td>\n",
       "      <td>NaN</td>\n",
       "      <td>Yes</td>\n",
       "      <td>Yes</td>\n",
       "      <td>28.0</td>\n",
       "      <td>Man</td>\n",
       "      <td>No</td>\n",
       "      <td>Straight / Heterosexual</td>\n",
       "      <td>NaN</td>\n",
       "    </tr>\n",
       "    <tr>\n",
       "      <td>3</td>\n",
       "      <td>4</td>\n",
       "      <td>I am a developer by profession</td>\n",
       "      <td>No</td>\n",
       "      <td>Never</td>\n",
       "      <td>The quality of OSS and closed source software ...</td>\n",
       "      <td>Employed full-time</td>\n",
       "      <td>United States</td>\n",
       "      <td>Bachelor’s degree (BA, BS, B.Eng., etc.)</td>\n",
       "      <td>Computer science, computer engineering, or sof...</td>\n",
       "      <td>Developer, full-stack</td>\n",
       "      <td>...</td>\n",
       "      <td>I do not use containers</td>\n",
       "      <td>Not at all</td>\n",
       "      <td>Useful for decentralized currency (i.e., Bitcoin)</td>\n",
       "      <td>Yes</td>\n",
       "      <td>SIGH</td>\n",
       "      <td>22.0</td>\n",
       "      <td>Man</td>\n",
       "      <td>No</td>\n",
       "      <td>Straight / Heterosexual</td>\n",
       "      <td>White or of European descent</td>\n",
       "    </tr>\n",
       "    <tr>\n",
       "      <td>4</td>\n",
       "      <td>5</td>\n",
       "      <td>I am a developer by profession</td>\n",
       "      <td>Yes</td>\n",
       "      <td>Once a month or more often</td>\n",
       "      <td>OSS is, on average, of HIGHER quality than pro...</td>\n",
       "      <td>Employed full-time</td>\n",
       "      <td>Ukraine</td>\n",
       "      <td>Bachelor’s degree (BA, BS, B.Eng., etc.)</td>\n",
       "      <td>Computer science, computer engineering, or sof...</td>\n",
       "      <td>Academic researcher;Developer, desktop or ente...</td>\n",
       "      <td>...</td>\n",
       "      <td>Outside of work, for personal projects</td>\n",
       "      <td>Not at all</td>\n",
       "      <td>NaN</td>\n",
       "      <td>Yes</td>\n",
       "      <td>Also Yes</td>\n",
       "      <td>30.0</td>\n",
       "      <td>Man</td>\n",
       "      <td>No</td>\n",
       "      <td>Straight / Heterosexual</td>\n",
       "      <td>White or of European descent;Multiracial</td>\n",
       "    </tr>\n",
       "  </tbody>\n",
       "</table>\n",
       "<p>5 rows × 43 columns</p>\n",
       "</div>"
      ],
      "text/plain": [
       "   Respondent                                         MainBranch Hobbyist  \\\n",
       "0           1             I am a student who is learning to code      Yes   \n",
       "1           2             I am a student who is learning to code       No   \n",
       "2           3  I am not primarily a developer, but I write co...      Yes   \n",
       "3           4                     I am a developer by profession       No   \n",
       "4           5                     I am a developer by profession      Yes   \n",
       "\n",
       "                  OpenSourcer  \\\n",
       "0                       Never   \n",
       "1     Less than once per year   \n",
       "2                       Never   \n",
       "3                       Never   \n",
       "4  Once a month or more often   \n",
       "\n",
       "                                          OpenSource  \\\n",
       "0  The quality of OSS and closed source software ...   \n",
       "1  The quality of OSS and closed source software ...   \n",
       "2  The quality of OSS and closed source software ...   \n",
       "3  The quality of OSS and closed source software ...   \n",
       "4  OSS is, on average, of HIGHER quality than pro...   \n",
       "\n",
       "                               Employment                 Country  \\\n",
       "0  Not employed, and not looking for work          United Kingdom   \n",
       "1      Not employed, but looking for work  Bosnia and Herzegovina   \n",
       "2                      Employed full-time                Thailand   \n",
       "3                      Employed full-time           United States   \n",
       "4                      Employed full-time                 Ukraine   \n",
       "\n",
       "                                             EdLevel  \\\n",
       "0                          Primary/elementary school   \n",
       "1  Secondary school (e.g. American high school, G...   \n",
       "2           Bachelor’s degree (BA, BS, B.Eng., etc.)   \n",
       "3           Bachelor’s degree (BA, BS, B.Eng., etc.)   \n",
       "4           Bachelor’s degree (BA, BS, B.Eng., etc.)   \n",
       "\n",
       "                                      UndergradMajor  \\\n",
       "0                                                NaN   \n",
       "1                                                NaN   \n",
       "2                      Web development or web design   \n",
       "3  Computer science, computer engineering, or sof...   \n",
       "4  Computer science, computer engineering, or sof...   \n",
       "\n",
       "                                             DevType  ...  \\\n",
       "0                                                NaN  ...   \n",
       "1  Developer, desktop or enterprise applications;...  ...   \n",
       "2  Designer;Developer, back-end;Developer, front-...  ...   \n",
       "3                              Developer, full-stack  ...   \n",
       "4  Academic researcher;Developer, desktop or ente...  ...   \n",
       "\n",
       "                               Containers BlockchainOrg  \\\n",
       "0                 I do not use containers           NaN   \n",
       "1                 I do not use containers           NaN   \n",
       "2                 I do not use containers           NaN   \n",
       "3                 I do not use containers    Not at all   \n",
       "4  Outside of work, for personal projects    Not at all   \n",
       "\n",
       "                                        BlockchainIs BetterLife  \\\n",
       "0                                                NaN        Yes   \n",
       "1  Useful across many domains and could change ma...        Yes   \n",
       "2                                                NaN        Yes   \n",
       "3  Useful for decentralized currency (i.e., Bitcoin)        Yes   \n",
       "4                                                NaN        Yes   \n",
       "\n",
       "                                   ITperson   Age  Gender  Trans  \\\n",
       "0  Fortunately, someone else has that title  14.0     Man     No   \n",
       "1                                       Yes  19.0     Man     No   \n",
       "2                                       Yes  28.0     Man     No   \n",
       "3                                      SIGH  22.0     Man     No   \n",
       "4                                  Also Yes  30.0     Man     No   \n",
       "\n",
       "                 Sexuality                                 Ethnicity  \n",
       "0  Straight / Heterosexual                                       NaN  \n",
       "1  Straight / Heterosexual                                       NaN  \n",
       "2  Straight / Heterosexual                                       NaN  \n",
       "3  Straight / Heterosexual              White or of European descent  \n",
       "4  Straight / Heterosexual  White or of European descent;Multiracial  \n",
       "\n",
       "[5 rows x 43 columns]"
      ]
     },
     "execution_count": 6,
     "metadata": {},
     "output_type": "execute_result"
    }
   ],
   "source": [
    "# getting rid of redundant columns\n",
    "results.drop(columns={'Student','EduOther','OrgSize','Age1stCode','MgrIdiot','MgrMoney','MgrWant','JobSeek','LastHireDate','LastInt','JobFactors','ResumeUpdate','CompFreq','WorkRemote','ImpSyn','UnitTests','PurchaseHow','PurchaseWhat','OffOn','SocialMedia','Extraversion','ScreenName','SOVisit1st','SOVisitFreq','SOVisitTo','SOFindAnswer','SOTimeSaved','SOHowMuchTime','SOAccount','SOPartFreq','SOJobs','EntTeams','SOComm','SONewContent','Dependents','SurveyLength','SurveyEase','FizzBuzz','CurrencySymbol','WelcomeChange','WorkPlan','WorkChallenge'},inplace=True)\n",
    "\n",
    "results.head()"
   ]
  },
  {
   "cell_type": "markdown",
   "metadata": {},
   "source": [
    "We managed to get rid of 45 redundant columns. \n",
    "\n",
    "_Note: The columns that are discarded might be modified later depending on how the analysis progresses and whether any intereting research questions surface that might be worth exploring._"
   ]
  },
  {
   "cell_type": "code",
   "execution_count": 7,
   "metadata": {},
   "outputs": [
    {
     "name": "stdout",
     "output_type": "stream",
     "text": [
      "Number of responses: 88883\n",
      "Number of atrributes: 43\n"
     ]
    }
   ],
   "source": [
    "# how many responses over how many attributes are we dealing with now with the changed dataset?\n",
    "print(\"Number of responses:\",results.shape[0])\n",
    "print(\"Number of atrributes:\",results.shape[1])"
   ]
  },
  {
   "cell_type": "markdown",
   "metadata": {},
   "source": [
    "What are the data types of the attributes of our dataset?"
   ]
  },
  {
   "cell_type": "code",
   "execution_count": 8,
   "metadata": {},
   "outputs": [
    {
     "name": "stdout",
     "output_type": "stream",
     "text": [
      "<class 'pandas.core.frame.DataFrame'>\n",
      "RangeIndex: 88883 entries, 0 to 88882\n",
      "Data columns (total 43 columns):\n",
      "Respondent                88883 non-null int64\n",
      "MainBranch                88331 non-null object\n",
      "Hobbyist                  88883 non-null object\n",
      "OpenSourcer               88883 non-null object\n",
      "OpenSource                86842 non-null object\n",
      "Employment                87181 non-null object\n",
      "Country                   88751 non-null object\n",
      "EdLevel                   86390 non-null object\n",
      "UndergradMajor            75614 non-null object\n",
      "DevType                   81335 non-null object\n",
      "YearsCode                 87938 non-null object\n",
      "YearsCodePro              74331 non-null object\n",
      "CareerSat                 72847 non-null object\n",
      "JobSat                    70988 non-null object\n",
      "CurrencyDesc              71392 non-null object\n",
      "CompTotal                 55945 non-null float64\n",
      "ConvertedComp             55823 non-null float64\n",
      "WorkWeekHrs               64503 non-null float64\n",
      "WorkLoc                   70055 non-null object\n",
      "CodeRev                   70390 non-null object\n",
      "CodeRevHrs                49790 non-null float64\n",
      "LanguageWorkedWith        87569 non-null object\n",
      "LanguageDesireNextYear    84088 non-null object\n",
      "DatabaseWorkedWith        76026 non-null object\n",
      "DatabaseDesireNextYear    69147 non-null object\n",
      "PlatformWorkedWith        80714 non-null object\n",
      "PlatformDesireNextYear    77443 non-null object\n",
      "WebFrameWorkedWith        65022 non-null object\n",
      "WebFrameDesireNextYear    62944 non-null object\n",
      "MiscTechWorkedWith        59586 non-null object\n",
      "MiscTechDesireNextYear    64511 non-null object\n",
      "DevEnviron                87317 non-null object\n",
      "OpSys                     87851 non-null object\n",
      "Containers                85366 non-null object\n",
      "BlockchainOrg             48175 non-null object\n",
      "BlockchainIs              60165 non-null object\n",
      "BetterLife                86269 non-null object\n",
      "ITperson                  87141 non-null object\n",
      "Age                       79210 non-null float64\n",
      "Gender                    85406 non-null object\n",
      "Trans                     83607 non-null object\n",
      "Sexuality                 76147 non-null object\n",
      "Ethnicity                 76668 non-null object\n",
      "dtypes: float64(5), int64(1), object(37)\n",
      "memory usage: 29.2+ MB\n"
     ]
    }
   ],
   "source": [
    "results.info()"
   ]
  },
  {
   "cell_type": "markdown",
   "metadata": {},
   "source": [
    "We now have an idea about how many entries each column has and how to go about manipulating the columns of our dataset."
   ]
  },
  {
   "cell_type": "markdown",
   "metadata": {},
   "source": [
    "#### _Q: Are most of the contributors on Stack Overflow Students, Not Developers, Developers, Novices, or Ex-Developers?_"
   ]
  },
  {
   "cell_type": "code",
   "execution_count": 9,
   "metadata": {},
   "outputs": [],
   "source": [
    "# replacing lengthy responses with descriptive phrases or words\n",
    "results['MainBranch'].replace({'I am a student who is learning to code':'Student',\n",
    "                               'I am not primarily a developer, but I write code sometimes as part of my work':'Not Developer',\n",
    "                               'I am a developer by profession':'Developer', \n",
    "                               'I code primarily as a hobby':'Novice',\n",
    "                               'I used to be a developer by profession, but no longer am':'Ex-Developer'}\n",
    "                              ,inplace=True)"
   ]
  },
  {
   "cell_type": "code",
   "execution_count": 10,
   "metadata": {},
   "outputs": [
    {
     "data": {
      "text/plain": [
       "0          Student\n",
       "1          Student\n",
       "2    Not Developer\n",
       "3        Developer\n",
       "4        Developer\n",
       "Name: MainBranch, dtype: object"
      ]
     },
     "execution_count": 10,
     "metadata": {},
     "output_type": "execute_result"
    }
   ],
   "source": [
    "# creating a new dataframe with only non-null values from the 'mainbranch' column \n",
    "mainbranch = results['MainBranch'].dropna()\n",
    "\n",
    "mainbranch.head()"
   ]
  },
  {
   "cell_type": "markdown",
   "metadata": {},
   "source": [
    "We plot a histogram to easily visualize and answer our question."
   ]
  },
  {
   "cell_type": "code",
   "execution_count": 11,
   "metadata": {},
   "outputs": [
    {
     "data": {
      "image/png": "[encoded data removed]",
      "text/plain": [
       "<Figure size 432x288 with 1 Axes>"
      ]
     },
     "metadata": {
      "needs_background": "light"
     },
     "output_type": "display_data"
    }
   ],
   "source": [
    "plt.figure()\n",
    "sns.countplot(x = mainbranch)\n",
    "plt.xlabel('Type of Developer')\n",
    "plt.ylabel('Count')\n",
    "plt.title(\"Main Branch\")\n",
    "plt.show()"
   ]
  },
  {
   "cell_type": "markdown",
   "metadata": {},
   "source": [
    "#### _Ans: Evidently, most of the contributors on Stack Overflow are Developers._"
   ]
  },
  {
   "cell_type": "markdown",
   "metadata": {},
   "source": [
    "Thus, we carry out the rest of our analysis for **Developers** only."
   ]
  },
  {
   "cell_type": "code",
   "execution_count": 12,
   "metadata": {},
   "outputs": [
    {
     "data": {
      "text/html": [
       "<div>\n",
       "<style scoped>\n",
       "    .dataframe tbody tr th:only-of-type {\n",
       "        vertical-align: middle;\n",
       "    }\n",
       "\n",
       "    .dataframe tbody tr th {\n",
       "        vertical-align: top;\n",
       "    }\n",
       "\n",
       "    .dataframe thead th {\n",
       "        text-align: right;\n",
       "    }\n",
       "</style>\n",
       "<table border=\"1\" class=\"dataframe\">\n",
       "  <thead>\n",
       "    <tr style=\"text-align: right;\">\n",
       "      <th></th>\n",
       "      <th>Respondent</th>\n",
       "      <th>MainBranch</th>\n",
       "      <th>Hobbyist</th>\n",
       "      <th>OpenSourcer</th>\n",
       "      <th>OpenSource</th>\n",
       "      <th>Employment</th>\n",
       "      <th>Country</th>\n",
       "      <th>EdLevel</th>\n",
       "      <th>UndergradMajor</th>\n",
       "      <th>DevType</th>\n",
       "      <th>...</th>\n",
       "      <th>Containers</th>\n",
       "      <th>BlockchainOrg</th>\n",
       "      <th>BlockchainIs</th>\n",
       "      <th>BetterLife</th>\n",
       "      <th>ITperson</th>\n",
       "      <th>Age</th>\n",
       "      <th>Gender</th>\n",
       "      <th>Trans</th>\n",
       "      <th>Sexuality</th>\n",
       "      <th>Ethnicity</th>\n",
       "    </tr>\n",
       "  </thead>\n",
       "  <tbody>\n",
       "    <tr>\n",
       "      <td>3</td>\n",
       "      <td>4</td>\n",
       "      <td>Developer</td>\n",
       "      <td>No</td>\n",
       "      <td>Never</td>\n",
       "      <td>The quality of OSS and closed source software ...</td>\n",
       "      <td>Employed full-time</td>\n",
       "      <td>United States</td>\n",
       "      <td>Bachelor’s degree (BA, BS, B.Eng., etc.)</td>\n",
       "      <td>Computer science, computer engineering, or sof...</td>\n",
       "      <td>Developer, full-stack</td>\n",
       "      <td>...</td>\n",
       "      <td>I do not use containers</td>\n",
       "      <td>Not at all</td>\n",
       "      <td>Useful for decentralized currency (i.e., Bitcoin)</td>\n",
       "      <td>Yes</td>\n",
       "      <td>SIGH</td>\n",
       "      <td>22.0</td>\n",
       "      <td>Man</td>\n",
       "      <td>No</td>\n",
       "      <td>Straight / Heterosexual</td>\n",
       "      <td>White or of European descent</td>\n",
       "    </tr>\n",
       "    <tr>\n",
       "      <td>4</td>\n",
       "      <td>5</td>\n",
       "      <td>Developer</td>\n",
       "      <td>Yes</td>\n",
       "      <td>Once a month or more often</td>\n",
       "      <td>OSS is, on average, of HIGHER quality than pro...</td>\n",
       "      <td>Employed full-time</td>\n",
       "      <td>Ukraine</td>\n",
       "      <td>Bachelor’s degree (BA, BS, B.Eng., etc.)</td>\n",
       "      <td>Computer science, computer engineering, or sof...</td>\n",
       "      <td>Academic researcher;Developer, desktop or ente...</td>\n",
       "      <td>...</td>\n",
       "      <td>Outside of work, for personal projects</td>\n",
       "      <td>Not at all</td>\n",
       "      <td>NaN</td>\n",
       "      <td>Yes</td>\n",
       "      <td>Also Yes</td>\n",
       "      <td>30.0</td>\n",
       "      <td>Man</td>\n",
       "      <td>No</td>\n",
       "      <td>Straight / Heterosexual</td>\n",
       "      <td>White or of European descent;Multiracial</td>\n",
       "    </tr>\n",
       "    <tr>\n",
       "      <td>6</td>\n",
       "      <td>7</td>\n",
       "      <td>Developer</td>\n",
       "      <td>No</td>\n",
       "      <td>Never</td>\n",
       "      <td>The quality of OSS and closed source software ...</td>\n",
       "      <td>Independent contractor, freelancer, or self-em...</td>\n",
       "      <td>Ukraine</td>\n",
       "      <td>Bachelor’s degree (BA, BS, B.Eng., etc.)</td>\n",
       "      <td>Another engineering discipline (ex. civil, ele...</td>\n",
       "      <td>Designer;Developer, front-end</td>\n",
       "      <td>...</td>\n",
       "      <td>I do not use containers</td>\n",
       "      <td>NaN</td>\n",
       "      <td>Useful for decentralized currency (i.e., Bitcoin)</td>\n",
       "      <td>No</td>\n",
       "      <td>Yes</td>\n",
       "      <td>42.0</td>\n",
       "      <td>Man</td>\n",
       "      <td>No</td>\n",
       "      <td>Straight / Heterosexual</td>\n",
       "      <td>White or of European descent</td>\n",
       "    </tr>\n",
       "    <tr>\n",
       "      <td>8</td>\n",
       "      <td>9</td>\n",
       "      <td>Developer</td>\n",
       "      <td>Yes</td>\n",
       "      <td>Once a month or more often</td>\n",
       "      <td>The quality of OSS and closed source software ...</td>\n",
       "      <td>Employed full-time</td>\n",
       "      <td>New Zealand</td>\n",
       "      <td>Some college/university study without earning ...</td>\n",
       "      <td>Computer science, computer engineering, or sof...</td>\n",
       "      <td>Database administrator;Developer, back-end;Dev...</td>\n",
       "      <td>...</td>\n",
       "      <td>Development;Testing;Production</td>\n",
       "      <td>Not at all</td>\n",
       "      <td>An irresponsible use of resources</td>\n",
       "      <td>No</td>\n",
       "      <td>SIGH</td>\n",
       "      <td>23.0</td>\n",
       "      <td>Man</td>\n",
       "      <td>No</td>\n",
       "      <td>Bisexual</td>\n",
       "      <td>White or of European descent</td>\n",
       "    </tr>\n",
       "    <tr>\n",
       "      <td>9</td>\n",
       "      <td>10</td>\n",
       "      <td>Developer</td>\n",
       "      <td>Yes</td>\n",
       "      <td>Once a month or more often</td>\n",
       "      <td>OSS is, on average, of HIGHER quality than pro...</td>\n",
       "      <td>Employed full-time</td>\n",
       "      <td>India</td>\n",
       "      <td>Master’s degree (MA, MS, M.Eng., MBA, etc.)</td>\n",
       "      <td>NaN</td>\n",
       "      <td>Data or business analyst;Data scientist or mac...</td>\n",
       "      <td>...</td>\n",
       "      <td>NaN</td>\n",
       "      <td>Not at all</td>\n",
       "      <td>Useful for immutable record keeping outside of...</td>\n",
       "      <td>No</td>\n",
       "      <td>Yes</td>\n",
       "      <td>NaN</td>\n",
       "      <td>NaN</td>\n",
       "      <td>NaN</td>\n",
       "      <td>NaN</td>\n",
       "      <td>NaN</td>\n",
       "    </tr>\n",
       "  </tbody>\n",
       "</table>\n",
       "<p>5 rows × 43 columns</p>\n",
       "</div>"
      ],
      "text/plain": [
       "   Respondent MainBranch Hobbyist                 OpenSourcer  \\\n",
       "3           4  Developer       No                       Never   \n",
       "4           5  Developer      Yes  Once a month or more often   \n",
       "6           7  Developer       No                       Never   \n",
       "8           9  Developer      Yes  Once a month or more often   \n",
       "9          10  Developer      Yes  Once a month or more often   \n",
       "\n",
       "                                          OpenSource  \\\n",
       "3  The quality of OSS and closed source software ...   \n",
       "4  OSS is, on average, of HIGHER quality than pro...   \n",
       "6  The quality of OSS and closed source software ...   \n",
       "8  The quality of OSS and closed source software ...   \n",
       "9  OSS is, on average, of HIGHER quality than pro...   \n",
       "\n",
       "                                          Employment        Country  \\\n",
       "3                                 Employed full-time  United States   \n",
       "4                                 Employed full-time        Ukraine   \n",
       "6  Independent contractor, freelancer, or self-em...        Ukraine   \n",
       "8                                 Employed full-time    New Zealand   \n",
       "9                                 Employed full-time          India   \n",
       "\n",
       "                                             EdLevel  \\\n",
       "3           Bachelor’s degree (BA, BS, B.Eng., etc.)   \n",
       "4           Bachelor’s degree (BA, BS, B.Eng., etc.)   \n",
       "6           Bachelor’s degree (BA, BS, B.Eng., etc.)   \n",
       "8  Some college/university study without earning ...   \n",
       "9        Master’s degree (MA, MS, M.Eng., MBA, etc.)   \n",
       "\n",
       "                                      UndergradMajor  \\\n",
       "3  Computer science, computer engineering, or sof...   \n",
       "4  Computer science, computer engineering, or sof...   \n",
       "6  Another engineering discipline (ex. civil, ele...   \n",
       "8  Computer science, computer engineering, or sof...   \n",
       "9                                                NaN   \n",
       "\n",
       "                                             DevType  ...  \\\n",
       "3                              Developer, full-stack  ...   \n",
       "4  Academic researcher;Developer, desktop or ente...  ...   \n",
       "6                      Designer;Developer, front-end  ...   \n",
       "8  Database administrator;Developer, back-end;Dev...  ...   \n",
       "9  Data or business analyst;Data scientist or mac...  ...   \n",
       "\n",
       "                               Containers BlockchainOrg  \\\n",
       "3                 I do not use containers    Not at all   \n",
       "4  Outside of work, for personal projects    Not at all   \n",
       "6                 I do not use containers           NaN   \n",
       "8          Development;Testing;Production    Not at all   \n",
       "9                                     NaN    Not at all   \n",
       "\n",
       "                                        BlockchainIs BetterLife  ITperson  \\\n",
       "3  Useful for decentralized currency (i.e., Bitcoin)        Yes      SIGH   \n",
       "4                                                NaN        Yes  Also Yes   \n",
       "6  Useful for decentralized currency (i.e., Bitcoin)         No       Yes   \n",
       "8                  An irresponsible use of resources         No      SIGH   \n",
       "9  Useful for immutable record keeping outside of...         No       Yes   \n",
       "\n",
       "    Age  Gender  Trans                Sexuality  \\\n",
       "3  22.0     Man     No  Straight / Heterosexual   \n",
       "4  30.0     Man     No  Straight / Heterosexual   \n",
       "6  42.0     Man     No  Straight / Heterosexual   \n",
       "8  23.0     Man     No                 Bisexual   \n",
       "9   NaN     NaN    NaN                      NaN   \n",
       "\n",
       "                                  Ethnicity  \n",
       "3              White or of European descent  \n",
       "4  White or of European descent;Multiracial  \n",
       "6              White or of European descent  \n",
       "8              White or of European descent  \n",
       "9                                       NaN  \n",
       "\n",
       "[5 rows x 43 columns]"
      ]
     },
     "execution_count": 12,
     "metadata": {},
     "output_type": "execute_result"
    }
   ],
   "source": [
    "# creating a new dataframe only containing Developer information that we will be working with\n",
    "developer = results[ results['MainBranch'] == 'Developer' ]\n",
    "\n",
    "developer.head()"
   ]
  },
  {
   "cell_type": "code",
   "execution_count": 13,
   "metadata": {},
   "outputs": [
    {
     "name": "stdout",
     "output_type": "stream",
     "text": [
      "Number of responses (or rows) = 65679\n"
     ]
    }
   ],
   "source": [
    "print(\"Number of responses (or rows) =\",developer.shape[0])"
   ]
  },
  {
   "cell_type": "markdown",
   "metadata": {},
   "source": [
    "### Data Exploration"
   ]
  },
  {
   "cell_type": "markdown",
   "metadata": {},
   "source": [
    "In the first section of this analysis, we explore trends in the larger developer community."
   ]
  },
  {
   "cell_type": "markdown",
   "metadata": {},
   "source": [
    "#### _Q: What are the most common types of Developers contributing on Stack Overflow?_ "
   ]
  },
  {
   "cell_type": "code",
   "execution_count": 14,
   "metadata": {},
   "outputs": [],
   "source": [
    "# splitting `DevType` on ';' \n",
    "devtypes = developer[ developer['DevType'].notnull() ]\n",
    "\n",
    "unique_developers = {}\n",
    "\n",
    "# splitting the dev types on ;\n",
    "for developer_set in devtypes['DevType'].apply(lambda row: str(row).split(';')):\n",
    "    for dev in developer_set:\n",
    "        if dev not in unique_developers.keys():\n",
    "            unique_developers[dev] = 1\n",
    "        else:\n",
    "            unique_developers[dev] += 1"
   ]
  },
  {
   "cell_type": "code",
   "execution_count": 15,
   "metadata": {},
   "outputs": [],
   "source": [
    "# function that will be used for plotting bar graphs horizontally\n",
    "def plot_dim_count(unique_dim_dict, plot_title):\n",
    "    dim_count = pd.DataFrame.from_dict(unique_dim_dict, orient = 'index', dtype = None)\n",
    "    dim_count.columns = ['Count']\n",
    "    dim_count.sort_values('Count', ascending = True, inplace = True)\n",
    "    dim_count.plot(kind = 'barh', figsize = (12,12), fontsize = 10, title = plot_title);"
   ]
  },
  {
   "cell_type": "markdown",
   "metadata": {},
   "source": [
    "We plot a bar graph to easily visualize and answer our question."
   ]
  },
  {
   "cell_type": "code",
   "execution_count": 16,
   "metadata": {},
   "outputs": [
    {
     "data": {
      "image/png": "[encoded data removed]",
      "text/plain": [
       "<Figure size 864x864 with 1 Axes>"
      ]
     },
     "metadata": {
      "needs_background": "light"
     },
     "output_type": "display_data"
    }
   ],
   "source": [
    "# plotting a bar graph\n",
    "plot_dim_count(unique_developers, 'Developer type')"
   ]
  },
  {
   "cell_type": "markdown",
   "metadata": {},
   "source": [
    "#### _Ans: Full-stack, back-end, and front-end developers seem to be the most common kinds of contributors on Satck Overflow._ "
   ]
  },
  {
   "cell_type": "markdown",
   "metadata": {},
   "source": [
    "#### _Q: Do most Developers love coding or merely do it as part of their job?_"
   ]
  },
  {
   "cell_type": "markdown",
   "metadata": {},
   "source": [
    "We plot a histogram to easily visualize and answer our question."
   ]
  },
  {
   "cell_type": "code",
   "execution_count": 17,
   "metadata": {},
   "outputs": [
    {
     "data": {
      "image/png": "[encoded data removed]",
      "text/plain": [
       "<Figure size 432x288 with 1 Axes>"
      ]
     },
     "metadata": {
      "needs_background": "light"
     },
     "output_type": "display_data"
    }
   ],
   "source": [
    "sns.countplot(x = 'Hobbyist', data = developer, color = \"Orange\")\n",
    "plt.xlabel('Answer')\n",
    "plt.ylabel('Count')\n",
    "plt.title(\"Is coding your hobby?\")\n",
    "plt.show()"
   ]
  },
  {
   "cell_type": "markdown",
   "metadata": {},
   "source": [
    "#### _Ans: Most Developers do love to code as a hobby._ "
   ]
  },
  {
   "cell_type": "markdown",
   "metadata": {},
   "source": [
    "#### _Q: What is the programming language of choice for Developers?_ "
   ]
  },
  {
   "cell_type": "code",
   "execution_count": 18,
   "metadata": {},
   "outputs": [],
   "source": [
    "# splitting `LanguageWorkedWith` on ';' \n",
    "languages = developer[ developer['LanguageWorkedWith'].notnull() ]\n",
    "\n",
    "unique_languages = {}\n",
    "\n",
    "# splitting the languages on ;\n",
    "for language_set in languages['LanguageWorkedWith'].apply(lambda row: str(row).split(';')):\n",
    "    for language in language_set:\n",
    "        if language not in unique_languages.keys():\n",
    "            unique_languages[language] = 1\n",
    "        else:\n",
    "            unique_languages[language] += 1"
   ]
  },
  {
   "cell_type": "markdown",
   "metadata": {},
   "source": [
    "We plot a bar graph to easily visualize and answer our question."
   ]
  },
  {
   "cell_type": "code",
   "execution_count": 19,
   "metadata": {},
   "outputs": [
    {
     "data": {
      "image/png": "[encoded data removed]",
      "text/plain": [
       "<Figure size 864x864 with 1 Axes>"
      ]
     },
     "metadata": {
      "needs_background": "light"
     },
     "output_type": "display_data"
    }
   ],
   "source": [
    "# plotting a bar graph\n",
    "plot_dim_count(unique_languages, 'The most popular languages')"
   ]
  },
  {
   "cell_type": "markdown",
   "metadata": {},
   "source": [
    "#### _Ans: The top 5 programming languages of choice for Developers seem to be JavaScript, HTML/CSS, SQL, Java, and Python._ "
   ]
  },
  {
   "cell_type": "markdown",
   "metadata": {},
   "source": [
    "#### _Q:  What are some of the most popular web frameworks used by Developers?_ "
   ]
  },
  {
   "cell_type": "code",
   "execution_count": 20,
   "metadata": {},
   "outputs": [],
   "source": [
    "# splitting `WebFrameWorkedWith` on ';' \n",
    "frameworks = developer[ developer['WebFrameWorkedWith'].notnull() ]\n",
    "\n",
    "unique_frameworks = {}\n",
    "\n",
    "# splitting the frameorks on ;\n",
    "for framework_set in frameworks['WebFrameWorkedWith'].apply(lambda row: str(row).split(';')):\n",
    "    for framework in framework_set:\n",
    "        if framework not in unique_frameworks.keys():\n",
    "            unique_frameworks[framework] = 1\n",
    "        else:\n",
    "            unique_frameworks[framework] += 1"
   ]
  },
  {
   "cell_type": "markdown",
   "metadata": {},
   "source": [
    "We plot a bar graph to easily visualize and answer our question."
   ]
  },
  {
   "cell_type": "code",
   "execution_count": 21,
   "metadata": {},
   "outputs": [
    {
     "data": {
      "image/png": "[encoded data removed]",
      "text/plain": [
       "<Figure size 864x864 with 1 Axes>"
      ]
     },
     "metadata": {
      "needs_background": "light"
     },
     "output_type": "display_data"
    }
   ],
   "source": [
    "# plotting a bar graph\n",
    "plot_dim_count(unique_frameworks, 'The most popular web frameworks')"
   ]
  },
  {
   "cell_type": "markdown",
   "metadata": {},
   "source": [
    "#### _Ans: jQuery, Angular/Angular.js, and React.js seem to be the most popular web frameworks preferred by Developers._ "
   ]
  },
  {
   "cell_type": "markdown",
   "metadata": {},
   "source": [
    "#### _Q: How regularly do Developers contribute to open source projects?_"
   ]
  },
  {
   "cell_type": "markdown",
   "metadata": {},
   "source": [
    "We plot a histogram to easily visualize and answer our question."
   ]
  },
  {
   "cell_type": "code",
   "execution_count": 22,
   "metadata": {},
   "outputs": [
    {
     "data": {
      "image/png": "[encoded data removed]",
      "text/plain": [
       "<Figure size 2160x720 with 1 Axes>"
      ]
     },
     "metadata": {
      "needs_background": "light"
     },
     "output_type": "display_data"
    }
   ],
   "source": [
    "plt.figure(figsize = (30, 10))\n",
    "sns.countplot(x = 'OpenSourcer', data = developer)\n",
    "plt.xlabel('Frequency of open source contribution', fontsize = 30)\n",
    "plt.ylabel('Count', fontsize = 30)\n",
    "plt.title(\"How frequently do you contribute to open source projects?\", fontsize = 36)\n",
    "plt.show()"
   ]
  },
  {
   "cell_type": "markdown",
   "metadata": {},
   "source": [
    "_Blue bar: \"Never\"_\n",
    "\n",
    "_Orange bar: \"Once a month or more often\"_\n",
    "\n",
    "_Green bar: \"Less than once a month but more than once per year\"_\n",
    "\n",
    "_Red bar: \"Less than once per year\"_"
   ]
  },
  {
   "cell_type": "markdown",
   "metadata": {},
   "source": [
    "#### _Ans: Seemingly, most Developers do not contribute to open source frequently or at all even though most of them like to code as a hobby._"
   ]
  },
  {
   "cell_type": "markdown",
   "metadata": {},
   "source": [
    "#### _Q: What is the employment status of Developers?_ "
   ]
  },
  {
   "cell_type": "markdown",
   "metadata": {},
   "source": [
    "We plot a histogram to easily visualize and answer our question."
   ]
  },
  {
   "cell_type": "code",
   "execution_count": 23,
   "metadata": {},
   "outputs": [
    {
     "data": {
      "image/png": "[encoded data removed]",
      "text/plain": [
       "<Figure size 2160x1080 with 1 Axes>"
      ]
     },
     "metadata": {
      "needs_background": "light"
     },
     "output_type": "display_data"
    }
   ],
   "source": [
    "plt.figure(figsize = (30, 15))\n",
    "sns.countplot(x ='Employment',data = developer)\n",
    "plt.xlabel('Employment status', fontsize=30)\n",
    "plt.ylabel('Count', fontsize = 30)\n",
    "plt.title(\"Employment status of Developers\", fontsize = 36)\n",
    "plt.show()"
   ]
  },
  {
   "cell_type": "markdown",
   "metadata": {},
   "source": [
    "_Blue bar: \"Employed full-time\"_\n",
    "\n",
    "_Orange bar: \"Independent contractor, freelancer, or self-employed\"_\n",
    "\n",
    "_Green bar: \"Employed part-time\"_\n",
    "\n",
    "_Red bar: \"Not employed, but looking for work\"_\n",
    "\n",
    "_Purple bar: \"Not employed, and not looking for work\"_\n",
    "\n",
    "_Last entry: \"Retired\"_"
   ]
  },
  {
   "cell_type": "markdown",
   "metadata": {},
   "source": [
    "#### _Ans: The majority of Developers are employed full time._ "
   ]
  },
  {
   "cell_type": "markdown",
   "metadata": {},
   "source": [
    "#### _Q: What is the job satisfaction rate among Developers?_ "
   ]
  },
  {
   "cell_type": "markdown",
   "metadata": {},
   "source": [
    "We plot a histogram to easily visualize and answer our question."
   ]
  },
  {
   "cell_type": "code",
   "execution_count": 24,
   "metadata": {},
   "outputs": [
    {
     "data": {
      "image/png": "[encoded data removed]",
      "text/plain": [
       "<Figure size 2160x1080 with 1 Axes>"
      ]
     },
     "metadata": {
      "needs_background": "light"
     },
     "output_type": "display_data"
    }
   ],
   "source": [
    "plt.figure(figsize = (30,15))\n",
    "sns.countplot(x = 'JobSat', data = developer)\n",
    "plt.xlabel('Job satisfaction status', fontsize = 30)\n",
    "plt.ylabel('Count', fontsize = 30)\n",
    "plt.title(\"Job satisfaction status of Developers\", fontsize=36)\n",
    "plt.show()"
   ]
  },
  {
   "cell_type": "markdown",
   "metadata": {},
   "source": [
    "_Blue bar: \"Slightly satisfied\"_\n",
    "\n",
    "_Orange bar: \"Slightly dissatisfied\"_\n",
    "\n",
    "_Green bar: \"Neither satisfied, nor dissatisfied\"_\n",
    "\n",
    "_Red bar: \"Very satisfied\"_\n",
    "\n",
    "_Purple bar: \"Very dissatisfied\"_\n"
   ]
  },
  {
   "cell_type": "markdown",
   "metadata": {},
   "source": [
    "#### _Ans: Most Developers are quite satisfied with their jobs._"
   ]
  },
  {
   "cell_type": "markdown",
   "metadata": {},
   "source": [
    "#### _Q: What is the distribution of the nationalities of Developers?_ "
   ]
  },
  {
   "cell_type": "code",
   "execution_count": 25,
   "metadata": {},
   "outputs": [],
   "source": [
    "# creating a copy of the dataframe\n",
    "devcopy = developer.copy()\n",
    "\n",
    "#replacing strings with numerical ratings\n",
    "devcopy['JobSat'].replace({'Very dissatisfied':0,\n",
    "                              'Slightly satisfied':1, \n",
    "                              'Neither satisfied nor dissatisfied':2,\n",
    "                              'Slightly dissatisfied':3, \n",
    "                              'Very satisfied':4, \n",
    "                              },\n",
    "                             inplace=True)\n"
   ]
  },
  {
   "cell_type": "markdown",
   "metadata": {},
   "source": [
    "We display the top 10 countries where Developers are most satisfied with their jobs."
   ]
  },
  {
   "cell_type": "code",
   "execution_count": 26,
   "metadata": {},
   "outputs": [
    {
     "data": {
      "image/png": "[encoded data removed]",
      "text/plain": [
       "<Figure size 432x288 with 1 Axes>"
      ]
     },
     "metadata": {
      "needs_background": "light"
     },
     "output_type": "display_data"
    }
   ],
   "source": [
    "# grouping job satisfaction rate by country\n",
    "jobsat = devcopy.groupby('Country')['JobSat'].sum().sort_values(ascending = False).head(10).reset_index()\n",
    "\n",
    "# plotting a bar plot\n",
    "jobsat.plot.bar(x = 'Country',y = 'JobSat')\n",
    "plt.xlabel('Country', fontsize = 10)\n",
    "plt.ylabel(\"Job satisfaction rating sum\", fontsize = 10)\n",
    "plt.title(\"Top 10 countries with highest job satisfaction rate\", fontsize = 15)\n",
    "plt.show()"
   ]
  },
  {
   "cell_type": "markdown",
   "metadata": {},
   "source": [
    "#### _Ans: Most Developers are from the United States of America._ "
   ]
  },
  {
   "cell_type": "markdown",
   "metadata": {},
   "source": [
    "#### _Q: What is the pay like for Developers?_ "
   ]
  },
  {
   "cell_type": "markdown",
   "metadata": {},
   "source": [
    "We take into account the `DevType`, `Country`, and `ConvertedComp` columns. Let's see what they stand for."
   ]
  },
  {
   "cell_type": "code",
   "execution_count": 27,
   "metadata": {},
   "outputs": [
    {
     "name": "stdout",
     "output_type": "stream",
     "text": [
      "DevType : Which of the following describe you? Please select all that apply.\n",
      "Country : In which country do you currently reside?\n",
      "ConvertedComp : Salary converted to annual USD salaries using the exchange rate on 2019-02-01, assuming 12 working months and 50 working weeks.\n"
     ]
    }
   ],
   "source": [
    "salaries_df = developer[ ['DevType', 'Country','ConvertedComp'] ]\n",
    "\n",
    "for column in salaries_df.columns.tolist():\n",
    "    col_desc = schema[ schema['Column'] == column]['QuestionText'].iloc[0]\n",
    "    print(column,\":\",col_desc)"
   ]
  },
  {
   "cell_type": "markdown",
   "metadata": {},
   "source": [
    "Let's check for percentage of missing data."
   ]
  },
  {
   "cell_type": "code",
   "execution_count": 28,
   "metadata": {},
   "outputs": [
    {
     "data": {
      "text/plain": [
       "DevType           1.8\n",
       "Country           0.0\n",
       "ConvertedComp    23.1\n",
       "dtype: float64"
      ]
     },
     "execution_count": 28,
     "metadata": {},
     "output_type": "execute_result"
    }
   ],
   "source": [
    "round((salaries_df.isnull().sum() / salaries_df.shape[0]) * 100, 1)"
   ]
  },
  {
   "cell_type": "markdown",
   "metadata": {},
   "source": [
    "Seems like a large number of developers did . it disclose their salaries, potentially due to NDAs and privacy concerns."
   ]
  },
  {
   "cell_type": "markdown",
   "metadata": {},
   "source": [
    "To assess pay uniformly, we will look at salary distributions by country."
   ]
  },
  {
   "cell_type": "code",
   "execution_count": 29,
   "metadata": {},
   "outputs": [],
   "source": [
    "# dropping rows with missing values from salaries_df\n",
    "clean_salaries_df = salaries_df.dropna().reset_index()"
   ]
  },
  {
   "cell_type": "code",
   "execution_count": 30,
   "metadata": {},
   "outputs": [
    {
     "data": {
      "text/html": [
       "<div>\n",
       "<style scoped>\n",
       "    .dataframe tbody tr th:only-of-type {\n",
       "        vertical-align: middle;\n",
       "    }\n",
       "\n",
       "    .dataframe tbody tr th {\n",
       "        vertical-align: top;\n",
       "    }\n",
       "\n",
       "    .dataframe thead th {\n",
       "        text-align: right;\n",
       "    }\n",
       "</style>\n",
       "<table border=\"1\" class=\"dataframe\">\n",
       "  <thead>\n",
       "    <tr style=\"text-align: right;\">\n",
       "      <th></th>\n",
       "      <th>index</th>\n",
       "      <th>Country</th>\n",
       "    </tr>\n",
       "  </thead>\n",
       "  <tbody>\n",
       "    <tr>\n",
       "      <td>0</td>\n",
       "      <td>United States</td>\n",
       "      <td>13346</td>\n",
       "    </tr>\n",
       "    <tr>\n",
       "      <td>1</td>\n",
       "      <td>India</td>\n",
       "      <td>3738</td>\n",
       "    </tr>\n",
       "    <tr>\n",
       "      <td>2</td>\n",
       "      <td>United Kingdom</td>\n",
       "      <td>3623</td>\n",
       "    </tr>\n",
       "    <tr>\n",
       "      <td>3</td>\n",
       "      <td>Germany</td>\n",
       "      <td>3339</td>\n",
       "    </tr>\n",
       "    <tr>\n",
       "      <td>4</td>\n",
       "      <td>Canada</td>\n",
       "      <td>2021</td>\n",
       "    </tr>\n",
       "    <tr>\n",
       "      <td>...</td>\n",
       "      <td>...</td>\n",
       "      <td>...</td>\n",
       "    </tr>\n",
       "    <tr>\n",
       "      <td>154</td>\n",
       "      <td>Democratic People's Republic of Korea</td>\n",
       "      <td>1</td>\n",
       "    </tr>\n",
       "    <tr>\n",
       "      <td>155</td>\n",
       "      <td>Djibouti</td>\n",
       "      <td>1</td>\n",
       "    </tr>\n",
       "    <tr>\n",
       "      <td>156</td>\n",
       "      <td>Chad</td>\n",
       "      <td>1</td>\n",
       "    </tr>\n",
       "    <tr>\n",
       "      <td>157</td>\n",
       "      <td>Mali</td>\n",
       "      <td>1</td>\n",
       "    </tr>\n",
       "    <tr>\n",
       "      <td>158</td>\n",
       "      <td>Barbados</td>\n",
       "      <td>1</td>\n",
       "    </tr>\n",
       "  </tbody>\n",
       "</table>\n",
       "<p>159 rows × 2 columns</p>\n",
       "</div>"
      ],
      "text/plain": [
       "                                     index  Country\n",
       "0                            United States    13346\n",
       "1                                    India     3738\n",
       "2                           United Kingdom     3623\n",
       "3                                  Germany     3339\n",
       "4                                   Canada     2021\n",
       "..                                     ...      ...\n",
       "154  Democratic People's Republic of Korea        1\n",
       "155                               Djibouti        1\n",
       "156                                   Chad        1\n",
       "157                                   Mali        1\n",
       "158                               Barbados        1\n",
       "\n",
       "[159 rows x 2 columns]"
      ]
     },
     "execution_count": 30,
     "metadata": {},
     "output_type": "execute_result"
    }
   ],
   "source": [
    "# a count of developers by country\n",
    "clean_salaries_df.Country.value_counts().reset_index()"
   ]
  },
  {
   "cell_type": "markdown",
   "metadata": {},
   "source": [
    "Looks like USA has the largest number of respondents, while lots of other countries are grossly underrepresented."
   ]
  },
  {
   "cell_type": "markdown",
   "metadata": {},
   "source": [
    "We now plot the salary distributions of the top 10 most represented countries."
   ]
  },
  {
   "cell_type": "code",
   "execution_count": 31,
   "metadata": {},
   "outputs": [
    {
     "data": {
      "image/png": "[encoded data removed]",
      "text/plain": [
       "<Figure size 1440x720 with 10 Axes>"
      ]
     },
     "metadata": {
      "needs_background": "light"
     },
     "output_type": "display_data"
    }
   ],
   "source": [
    "fig = plt.figure(figsize = (20, 10))\n",
    "\n",
    "countries = clean_salaries_df['Country'].value_counts().sort_values(ascending = False)[:10].index.tolist()\n",
    "\n",
    "for i, country in enumerate(countries):\n",
    "    plt.subplot(4, 3, i + 1)\n",
    "    temp_salaries = clean_salaries_df.loc[clean_salaries_df['Country'] == country, 'ConvertedComp']\n",
    "\n",
    "    ax = temp_salaries.plot(kind = 'kde')\n",
    "    ax.axvline(temp_salaries.mean(), linestyle = '-', color = 'red')\n",
    "    ax.text((temp_salaries.mean() + 1500), (float(ax.get_ylim()[1]) * 0.55), 'mean = $ ' + str(round(temp_salaries.mean(),2)), fontsize = 12)\n",
    "    ax.set_xlabel('Annual Salary in USD')\n",
    "    ax.set_xlim(-temp_salaries.mean(), temp_salaries.mean() + 2 * temp_salaries.std())\n",
    "    ax.set_title('Annual Salary Distribution in {}'.format(country))\n",
    "\n",
    "plt.tight_layout()\n",
    "plt.show()\n"
   ]
  },
  {
   "cell_type": "markdown",
   "metadata": {},
   "source": [
    "_Function adapted from code written by [Modingwa](https://github.com/Modingwa/Stack-Overflow-2019-Survey-Analysis/blob/master/2019%20Stack%20Overflow%20Survey%20Analysis.ipynb)_"
   ]
  },
  {
   "cell_type": "markdown",
   "metadata": {},
   "source": [
    "#### _Ans: USA has the highest salaries for Developers by far._ "
   ]
  },
  {
   "cell_type": "markdown",
   "metadata": {},
   "source": [
    "#### _Q: What opinions and practices do Developers have regarding code review?_ "
   ]
  },
  {
   "cell_type": "markdown",
   "metadata": {},
   "source": [
    "We plot a histogram to easily visualize and answer our question."
   ]
  },
  {
   "cell_type": "code",
   "execution_count": 32,
   "metadata": {},
   "outputs": [
    {
     "data": {
      "image/png": "[encoded data removed]",
      "text/plain": [
       "<Figure size 2160x1080 with 1 Axes>"
      ]
     },
     "metadata": {
      "needs_background": "light"
     },
     "output_type": "display_data"
    }
   ],
   "source": [
    "plt.figure(figsize = (30,15))\n",
    "sns.countplot(x = 'CodeRev', data = developer)\n",
    "plt.xlabel('Code review', fontsize = 30)\n",
    "plt.ylabel('Count', fontsize = 30)\n",
    "plt.title(\"Do you review code?\", fontsize=36)\n",
    "plt.show()"
   ]
  },
  {
   "cell_type": "markdown",
   "metadata": {},
   "source": [
    "_Blue bar: \"No\"_\n",
    "\n",
    "_Orange bar: \"Yes, because I see value in code review\"_\n",
    "\n",
    "_Green bar: \"Yes, because I was told to do so\"_"
   ]
  },
  {
   "cell_type": "markdown",
   "metadata": {},
   "source": [
    "#### _Ans: Most Developers practice code review because they find value in it._ "
   ]
  },
  {
   "cell_type": "markdown",
   "metadata": {},
   "source": [
    "#### _Q: How much time do Developers spend on code review? Does it vary by the views they hold about its value?_ "
   ]
  },
  {
   "cell_type": "code",
   "execution_count": 33,
   "metadata": {},
   "outputs": [
    {
     "data": {
      "image/png": "[encoded data removed]",
      "text/plain": [
       "<Figure size 432x288 with 1 Axes>"
      ]
     },
     "metadata": {
      "needs_background": "light"
     },
     "output_type": "display_data"
    }
   ],
   "source": [
    "# grouping code review hours by the practices and opinions Developers hold about code review\n",
    "coderev = developer.groupby('CodeRev')['CodeRevHrs'].sum().sort_values(ascending = False).reset_index()\n",
    "\n",
    "# plotting a bar plot\n",
    "coderev.plot.bar(x = 'CodeRev',y = 'CodeRevHrs')\n",
    "plt.xlabel('Code review views', fontsize = 10)\n",
    "plt.ylabel(\"Do you review code?\", fontsize = 10)\n",
    "plt.show()"
   ]
  },
  {
   "cell_type": "markdown",
   "metadata": {},
   "source": [
    " **_Ans: Clearly, since most Developers value code review, they spend a lot of time on it._** \n",
    "\n",
    "**_Those who do not practice code review naturally do not spend any time on it._**\n",
    "\n",
    "**_Those who review code because they are told to do so spend relatively much less time on it._**"
   ]
  },
  {
   "cell_type": "markdown",
   "metadata": {},
   "source": [
    "### Data Analysis of the differences between Data Scientists and Non-data Scientists"
   ]
  },
  {
   "cell_type": "markdown",
   "metadata": {},
   "source": [
    "In the second part of this analysis, we dive deeper into the developer community to explore the differences between Data Scientists and Non-data Scientists."
   ]
  },
  {
   "cell_type": "markdown",
   "metadata": {},
   "source": [
    "Since we are interested in comparing data scientists to non-data scientists, we need to be able to differentiate between the two. This is done using the `DevType` field. As a result, we should drop any rows where this field is missing."
   ]
  },
  {
   "cell_type": "code",
   "execution_count": 34,
   "metadata": {},
   "outputs": [],
   "source": [
    "# deleting rows where `DevType` is missing\n",
    "new_results = developer[ pd.notnull(developer['DevType']) ]"
   ]
  },
  {
   "cell_type": "code",
   "execution_count": 35,
   "metadata": {},
   "outputs": [
    {
     "name": "stdout",
     "output_type": "stream",
     "text": [
      "The reduced dataset contains 64494 rows and 43 columns.\n"
     ]
    }
   ],
   "source": [
    "# printing size of reduced dataset\n",
    "print('The reduced dataset contains', np.shape(new_results)[0], 'rows and', np.shape(new_results)[1], 'columns.')"
   ]
  },
  {
   "cell_type": "markdown",
   "metadata": {},
   "source": [
    "Let us now explore the unique values in the `Gender`, and `UndergradMajor` columns of the new dataframe."
   ]
  },
  {
   "cell_type": "code",
   "execution_count": 36,
   "metadata": {},
   "outputs": [
    {
     "data": {
      "text/plain": [
       "Man                                                            57579\n",
       "Woman                                                           4282\n",
       "Non-binary, genderqueer, or gender non-conforming                387\n",
       "Man;Non-binary, genderqueer, or gender non-conforming            124\n",
       "Woman;Non-binary, genderqueer, or gender non-conforming          110\n",
       "Woman;Man                                                         63\n",
       "Woman;Man;Non-binary, genderqueer, or gender non-conforming       32\n",
       "Name: Gender, dtype: int64"
      ]
     },
     "execution_count": 36,
     "metadata": {},
     "output_type": "execute_result"
    }
   ],
   "source": [
    "# gender\n",
    "new_results['Gender'].value_counts()"
   ]
  },
  {
   "cell_type": "markdown",
   "metadata": {},
   "source": [
    "The majority of respondents identify themselves as either 'Man' or 'Woman'. All other responses could be grouped together into a single \"Non-binary\" category for simplicity purposes only. **This is not meant to offend, belittle, or degrade any gender or anyone's identity.**"
   ]
  },
  {
   "cell_type": "code",
   "execution_count": 37,
   "metadata": {},
   "outputs": [
    {
     "data": {
      "text/plain": [
       "25.0    3889\n",
       "27.0    3766\n",
       "28.0    3764\n",
       "26.0    3722\n",
       "24.0    3596\n",
       "        ... \n",
       "43.5       1\n",
       "31.4       1\n",
       "37.5       1\n",
       "26.3       1\n",
       "33.5       1\n",
       "Name: Age, Length: 99, dtype: int64"
      ]
     },
     "execution_count": 37,
     "metadata": {},
     "output_type": "execute_result"
    }
   ],
   "source": [
    "# age\n",
    "new_results['Age'].value_counts()"
   ]
  },
  {
   "cell_type": "code",
   "execution_count": 38,
   "metadata": {},
   "outputs": [
    {
     "data": {
      "text/plain": [
       "Computer science, computer engineering, or software engineering          39264\n",
       "Another engineering discipline (ex. civil, electrical, mechanical)        4404\n",
       "Information systems, information technology, or system administration     3863\n",
       "Web development or web design                                             2658\n",
       "A natural science (ex. biology, chemistry, physics)                       2089\n",
       "Mathematics or statistics                                                 2069\n",
       "A business discipline (ex. accounting, finance, marketing)                1132\n",
       "A humanities discipline (ex. literature, history, philosophy)             1130\n",
       "Fine arts or performing arts (ex. graphic design, music, studio art)       918\n",
       "A social science (ex. anthropology, psychology, political science)         876\n",
       "I never declared a major                                                   647\n",
       "A health science (ex. nursing, pharmacy, radiology)                        149\n",
       "Name: UndergradMajor, dtype: int64"
      ]
     },
     "execution_count": 38,
     "metadata": {},
     "output_type": "execute_result"
    }
   ],
   "source": [
    "# undergraduate major\n",
    "new_results['UndergradMajor'].value_counts()"
   ]
  },
  {
   "cell_type": "code",
   "execution_count": 39,
   "metadata": {},
   "outputs": [
    {
     "data": {
      "text/plain": [
       "Bachelor’s degree (BA, BS, B.Eng., etc.)                                              32149\n",
       "Master’s degree (MA, MS, M.Eng., MBA, etc.)                                           15682\n",
       "Some college/university study without earning a degree                                 7258\n",
       "Secondary school (e.g. American high school, German Realschule or Gymnasium, etc.)     3315\n",
       "Associate degree                                                                       2112\n",
       "Other doctoral degree (Ph.D, Ed.D., etc.)                                              1428\n",
       "Professional degree (JD, MD, etc.)                                                      874\n",
       "Primary/elementary school                                                               321\n",
       "I never completed any formal education                                                  292\n",
       "Name: EdLevel, dtype: int64"
      ]
     },
     "execution_count": 39,
     "metadata": {},
     "output_type": "execute_result"
    }
   ],
   "source": [
    "# education level\n",
    "new_results['EdLevel'].value_counts()"
   ]
  },
  {
   "cell_type": "markdown",
   "metadata": {},
   "source": [
    "For both `EdLevel` and `UndergradMajor`, several of the categories could be grouped together for simplicity. Additionally, category names could be shortened, to make it easier to use as labels when creating graphs."
   ]
  },
  {
   "cell_type": "code",
   "execution_count": 40,
   "metadata": {},
   "outputs": [
    {
     "data": {
      "text/plain": [
       "C#;HTML/CSS;JavaScript;SQL                                     1302\n",
       "HTML/CSS;JavaScript;PHP;SQL                                    1236\n",
       "C#;HTML/CSS;JavaScript;SQL;TypeScript                           950\n",
       "HTML/CSS;JavaScript                                             881\n",
       "HTML/CSS;JavaScript;PHP                                         730\n",
       "Java                                                            659\n",
       "HTML/CSS;JavaScript;TypeScript                                  649\n",
       "HTML/CSS;Java;JavaScript;SQL                                    588\n",
       "Bash/Shell/PowerShell;C#;HTML/CSS;JavaScript;SQL;TypeScript     485\n",
       "C#                                                              446\n",
       "Name: LanguageWorkedWith, dtype: int64"
      ]
     },
     "execution_count": 40,
     "metadata": {},
     "output_type": "execute_result"
    }
   ],
   "source": [
    "# language worked with\n",
    "new_results['LanguageWorkedWith'].value_counts().nlargest(10)"
   ]
  },
  {
   "cell_type": "markdown",
   "metadata": {},
   "source": [
    "`LanguageWorkedWith` contains multiple selections that have been strung together into a single string. These will need to be split apart into individual entries for analysis. In some cases, categories can potentially be grouped into a smaller number of categories."
   ]
  },
  {
   "cell_type": "code",
   "execution_count": 41,
   "metadata": {},
   "outputs": [
    {
     "data": {
      "text/plain": [
       "Slightly satisfied                    21675\n",
       "Very satisfied                        20022\n",
       "Slightly dissatisfied                  9469\n",
       "Neither satisfied nor dissatisfied     7660\n",
       "Very dissatisfied                      4278\n",
       "Name: JobSat, dtype: int64"
      ]
     },
     "execution_count": 41,
     "metadata": {},
     "output_type": "execute_result"
    }
   ],
   "source": [
    "# job satisfaction\n",
    "new_results['JobSat'].value_counts()"
   ]
  },
  {
   "cell_type": "code",
   "execution_count": 42,
   "metadata": {},
   "outputs": [
    {
     "data": {
      "text/plain": [
       "Very satisfied                        26323\n",
       "Slightly satisfied                    22217\n",
       "Slightly dissatisfied                  6573\n",
       "Neither satisfied nor dissatisfied     6092\n",
       "Very dissatisfied                      3289\n",
       "Name: CareerSat, dtype: int64"
      ]
     },
     "execution_count": 42,
     "metadata": {},
     "output_type": "execute_result"
    }
   ],
   "source": [
    "# career satisfaction\n",
    "new_results['CareerSat'].value_counts()"
   ]
  },
  {
   "cell_type": "markdown",
   "metadata": {},
   "source": [
    "To allow summary statistics to be calculated for `JobSat` and `CareerSat`, we convert the satisfaction rating scale into a numeric scale where \"Very dissatisfied\" = 1, \"Slightly dissatisfied\" = 2, etc. similar to what was already done earlier for Developers."
   ]
  },
  {
   "cell_type": "markdown",
   "metadata": {},
   "source": [
    "We first split our data into 'data scientist' and 'non-data scientist' subsets."
   ]
  },
  {
   "cell_type": "code",
   "execution_count": 43,
   "metadata": {},
   "outputs": [],
   "source": [
    "# creating data scientist and non-data scientist subsets\n",
    "survey_ds = new_results[ new_results['DevType'].str.contains('Data scientist') == True ]\n",
    "survey_non_ds = new_results[ new_results['DevType'].str.contains('Data scientist') == False ]"
   ]
  },
  {
   "cell_type": "code",
   "execution_count": 44,
   "metadata": {},
   "outputs": [
    {
     "name": "stdout",
     "output_type": "stream",
     "text": [
      "There are 4317 rows in the \"data scientist\" subset and 60177 rows in the \"non-data scientist\" subset.\n"
     ]
    }
   ],
   "source": [
    "print('There are', len(survey_ds), 'rows in the \"data scientist\" subset and', len(survey_non_ds), 'rows in the \"non-data scientist\" subset.')"
   ]
  },
  {
   "cell_type": "markdown",
   "metadata": {},
   "source": [
    "Let us simplify `Gender`, `EdLevel`, and `UndergradMajor` to reduce the length of category labels and to group similar categories into a single category."
   ]
  },
  {
   "cell_type": "code",
   "execution_count": 45,
   "metadata": {},
   "outputs": [],
   "source": [
    "# simplifying Gender\n",
    "def simplify_gender(df):\n",
    "    conditions_gender = [(df['Gender'] == 'Man'),\n",
    "                         (df['Gender'] == 'Woman'),\n",
    "                         (df['Gender'] != 'Man') & (df['Gender'] != 'Woman') \n",
    "                         & (pd.isnull(df['Gender']) == False)]\n",
    "\n",
    "    choices_gender = ['Man', 'Woman', 'Non-binary']\n",
    "\n",
    "    df['Gender_New'] = np.select(conditions_gender, choices_gender, default = np.NaN)\n",
    "    \n",
    "    return df\n",
    "                \n",
    "# applying function to subsets\n",
    "survey_ds = simplify_gender(survey_ds)\n",
    "survey_non_ds = simplify_gender(survey_non_ds)"
   ]
  },
  {
   "cell_type": "code",
   "execution_count": 46,
   "metadata": {},
   "outputs": [],
   "source": [
    "# simplifying EdLevel\n",
    "def simplify_ed(df):\n",
    "    conditions_ed = [(df['EdLevel'] == 'Bachelor’s degree (BA, BS, B.Eng., etc.)'),\n",
    "                     (df['EdLevel'] == 'Master’s degree (MA, MS, M.Eng., MBA, etc.)'),\n",
    "                     (df['EdLevel'] == 'Professional degree (JD, MD, etc.)'),   \n",
    "                     (df['EdLevel'] == 'Associate degree'),\n",
    "                     (df['EdLevel'] == 'Other doctoral degree (Ph.D, Ed.D., etc.)'),\n",
    "                     (df['EdLevel'] == 'Some college/university study without earning a degree') \n",
    "                     | (df['EdLevel'] == 'Secondary school (e.g. American high school, German Realschule or Gymnasium, etc.)') \n",
    "                     | (df['EdLevel'] == 'Primary/elementary school')\n",
    "                     | (df['EdLevel'] == 'I never completed any formal education')]\n",
    "\n",
    "    choices_ed = ['Bachelors', 'Masters', 'Professional', 'Associate', 'Doctorate', 'No Degree']\n",
    "\n",
    "    df['EdLevel_New'] = np.select(conditions_ed, choices_ed, default = np.NaN)\n",
    "    \n",
    "    return df\n",
    "\n",
    "# applying function to subsets\n",
    "survey_ds = simplify_ed(survey_ds)\n",
    "survey_non_ds = simplify_ed(survey_non_ds)"
   ]
  },
  {
   "cell_type": "code",
   "execution_count": 47,
   "metadata": {},
   "outputs": [],
   "source": [
    "# simplifying UndergradMajor\n",
    "def simplify_major(df):\n",
    "    conditions_major = [(df['UndergradMajor'] == 'Computer science, computer engineering, or software engineering'),\n",
    "                        (df['UndergradMajor'] == 'Another engineering discipline (ex. civil, electrical, mechanical)'),\n",
    "                        (df['UndergradMajor'] == 'Information systems, information technology, or system administration'),\n",
    "                        (df['UndergradMajor'] == 'Mathematics or statistics'),\n",
    "                        (df['UndergradMajor'] == 'A natural science (ex. biology, chemistry, physics)')\n",
    "                        |(df['UndergradMajor'] == 'A health science (ex. nursing, pharmacy, radiology)'),\n",
    "                        (df['UndergradMajor'] == 'Web development or web design'),\n",
    "                        (df['UndergradMajor'] == 'A business discipline (ex. accounting, finance, marketing)'),\n",
    "                        (df['UndergradMajor'] == 'A humanities discipline (ex. literature, history, philosophy)')\n",
    "                        | (df['UndergradMajor'] == 'A social science (ex. anthropology, psychology, political science)')\n",
    "                        | (df['UndergradMajor'] == 'Fine arts or performing arts (ex. graphic design, music, studio art)')]\n",
    "\n",
    "    choices_major = ['Computer Science', 'Engineering', 'IT/Info Systems', 'Math/Statistics', 'Other Science',\n",
    "                     'Web Design/Development', 'Business', 'Arts/Humanities/Social Science']\n",
    "\n",
    "    df['UndergradMajor_New'] = np.select(conditions_major, choices_major, default = np.NaN)\n",
    "    \n",
    "    return df\n",
    "\n",
    "# applying function to subsets\n",
    "survey_ds = simplify_major(survey_ds)\n",
    "survey_non_ds = simplify_major(survey_non_ds)"
   ]
  },
  {
   "cell_type": "markdown",
   "metadata": {},
   "source": [
    "We now convert satisfaction scales from strings to numerical values."
   ]
  },
  {
   "cell_type": "code",
   "execution_count": 48,
   "metadata": {},
   "outputs": [],
   "source": [
    "# converting satisfaction scales to numeric scales\n",
    "def convert_scale(df, col, new_col):\n",
    "    conditions_sat = [(df[col] == 'Very dissatisfied'),\n",
    "                     (df[col] == 'Slightly dissatisfied'),\n",
    "                     (df[col] == 'Neither satisfied nor dissatisfied'),\n",
    "                     (df[col] == 'Slightly satisfied'),\n",
    "                     (df[col] == 'Very satisfied')]\n",
    "    \n",
    "    choices_sat = [1, 2, 3, 4, 5]\n",
    "    \n",
    "    df[new_col] = np.select(conditions_sat, choices_sat, default = np.NaN)\n",
    "    \n",
    "    return df\n",
    "\n",
    "# Apply function to subsets\n",
    "survey_ds = convert_scale(survey_ds, 'JobSat', 'JobSat_Num')\n",
    "survey_ds = convert_scale(survey_ds, 'CareerSat', 'CareerSat_Num')\n",
    "\n",
    "survey_non_ds = convert_scale(survey_non_ds, 'JobSat', 'JobSat_Num')\n",
    "survey_non_ds = convert_scale(survey_non_ds, 'CareerSat', 'CareerSat_Num')"
   ]
  },
  {
   "cell_type": "markdown",
   "metadata": {},
   "source": [
    "For the fields where multiple selections were possible (i.e. LanguageWorkedWith), we split the strings containing the multiple selections into a list of selections and then concatenate these lists into a single list (dropping any missing values in the process), similar to what we did above for Developers."
   ]
  },
  {
   "cell_type": "code",
   "execution_count": 49,
   "metadata": {},
   "outputs": [],
   "source": [
    "# creating dataframe containing split string values by respondent number\n",
    "def split_list(df, col):\n",
    "    in_res = list(df['Respondent'])\n",
    "    in_list = list(df[col])\n",
    "    \n",
    "    out_res = []\n",
    "    out_list = []\n",
    "    \n",
    "    for i in range(len(in_list)):\n",
    "        if pd.isnull(in_list[i]) == False:\n",
    "            vals = in_list[i].split(';')\n",
    "            res = [in_res[i]] * len(vals)\n",
    "            \n",
    "            out_list.append(vals)\n",
    "            out_res.append(res)\n",
    "    \n",
    "    out_df = pd.DataFrame({'Respondent': list(np.concatenate(out_res)), col: list(np.concatenate(out_list))})\n",
    "    \n",
    "    return out_df"
   ]
  },
  {
   "cell_type": "code",
   "execution_count": 50,
   "metadata": {},
   "outputs": [],
   "source": [
    "# splitting LanguageWorkedWith\n",
    "languages_ds = split_list(survey_ds, 'LanguageWorkedWith')\n",
    "languages_non_ds = split_list(survey_non_ds, 'LanguageWorkedWith')"
   ]
  },
  {
   "cell_type": "markdown",
   "metadata": {},
   "source": [
    "We will be excluding the missing values from any calculations."
   ]
  },
  {
   "cell_type": "markdown",
   "metadata": {},
   "source": [
    "Now that we have processed our data, our next step is to apply statistical analysis techniques to this processed data in order to answer our research questions. But before that, we first define several functions for performing this analysis."
   ]
  },
  {
   "cell_type": "code",
   "execution_count": 51,
   "metadata": {},
   "outputs": [],
   "source": [
    "# comparing the distribution of the two subsets for a specified column\n",
    "\n",
    "# getting the proportion of the dataset by category\n",
    "def get_proportions(df, col, index_order = None, drop = True, multi = False):\n",
    "    \n",
    "    # summarizing by column value\n",
    "    summary = df[ ['Respondent', col] ].groupby([col]).count()\n",
    "    \n",
    "    # dropping NaN values\n",
    "    if drop:\n",
    "        summary = summary.drop('nan')\n",
    "\n",
    "    # converting sums to proportions\n",
    "    if multi:\n",
    "        props = summary / df['Respondent'].nunique()\n",
    "    \n",
    "    else:\n",
    "        props = summary / summary['Respondent'].sum()\n",
    "        \n",
    "    \n",
    "    # sorting rows in order specified\n",
    "    if index_order != None:\n",
    "        props = props.reindex(index_order)\n",
    "        \n",
    "    # converting index into column\n",
    "    props.reset_index(level = 0, inplace = True)\n",
    "    \n",
    "    return props"
   ]
  },
  {
   "cell_type": "markdown",
   "metadata": {},
   "source": [
    "Code reference: https://stackoverflow.com/questions/20461165/how-to-convert-pandas-index-in-a-dataframe-to-a-column"
   ]
  },
  {
   "cell_type": "code",
   "execution_count": 52,
   "metadata": {},
   "outputs": [],
   "source": [
    "# create summary dataset for comparing the two subsets\n",
    "def create_summary(df_ds, df_non_ds, col, index_order = None, drop = True, multi = False):\n",
    "\n",
    "    # getting proportions for each subset\n",
    "    props_ds = get_proportions(df_ds, col, index_order, drop, multi)\n",
    "    props_non_ds = get_proportions(df_non_ds, col, index_order, drop, multi)\n",
    "    \n",
    "    # renaming respondent column\n",
    "    props_ds = props_ds.rename(columns = {'Respondent':'Data Scientist'})\n",
    "    props_non_ds = props_non_ds.rename(columns = {'Respondent':'Non-data Scientist'})\n",
    "    \n",
    "    # merging dataframes\n",
    "    props_all = pd.merge(props_non_ds, props_ds, how = 'outer', on = col)\n",
    "    \n",
    "    # replacing any missing values with zeros\n",
    "    props_all = props_all.fillna(0)\n",
    "\n",
    "    return props_all"
   ]
  },
  {
   "cell_type": "code",
   "execution_count": 53,
   "metadata": {},
   "outputs": [],
   "source": [
    "# creating comparison plot\n",
    "def create_bar_plot(df, col, x_lab, title, rot = 0):\n",
    "\n",
    "    # changing dataframe to long form\n",
    "    long = pd.melt(df, id_vars = col, var_name ='DevType', value_name ='Proportion')\n",
    "    \n",
    "    # creating plot\n",
    "    sns.catplot(x = col, y ='Proportion', hue = 'DevType', data = long, kind = 'bar', legend = False);\n",
    "    \n",
    "    # setting plot labels\n",
    "    plt.xlabel(x_lab)\n",
    "    plt.title(title)\n",
    "    plt.gca().legend().set_title('')\n",
    "    plt.xticks(rotation = rot)"
   ]
  },
  {
   "cell_type": "markdown",
   "metadata": {},
   "source": [
    "### Comparing differences between Data Scientists and Non-data Scientists"
   ]
  },
  {
   "cell_type": "markdown",
   "metadata": {},
   "source": [
    "#### _Q: What is the gender distribution between Data Scientists and Non-data Scientists?_ "
   ]
  },
  {
   "cell_type": "code",
   "execution_count": 54,
   "metadata": {},
   "outputs": [
    {
     "name": "stdout",
     "output_type": "stream",
     "text": [
      "   Gender_New  Non-data Scientist  Data Scientist\n",
      "0         Man            0.920093        0.920650\n",
      "1  Non-binary            0.011200        0.014818\n",
      "2       Woman            0.068707        0.064532\n"
     ]
    }
   ],
   "source": [
    "# creating summary dataframe\n",
    "gender_props = create_summary(survey_ds, survey_non_ds, 'Gender_New')\n",
    "\n",
    "print(gender_props)"
   ]
  },
  {
   "cell_type": "code",
   "execution_count": 55,
   "metadata": {},
   "outputs": [
    {
     "data": {
      "image/png": "[encoded data removed]",
      "text/plain": [
       "<Figure size 360x360 with 1 Axes>"
      ]
     },
     "metadata": {
      "needs_background": "light"
     },
     "output_type": "display_data"
    }
   ],
   "source": [
    "# creating comparison plot\n",
    "create_bar_plot(gender_props, 'Gender_New', 'Gender', 'Gender Distribution by Developer Type')"
   ]
  },
  {
   "cell_type": "markdown",
   "metadata": {},
   "source": [
    "Let us look a little more closely at the gender ditribution among younger developers."
   ]
  },
  {
   "cell_type": "code",
   "execution_count": 56,
   "metadata": {},
   "outputs": [
    {
     "name": "stdout",
     "output_type": "stream",
     "text": [
      "   Gender_New  Non-data Scientist  Data Scientist\n",
      "0         Man             0.91450        0.917981\n",
      "1  Non-binary             0.01145        0.011917\n",
      "2       Woman             0.07405        0.070102\n"
     ]
    }
   ],
   "source": [
    "# comparing gender distribution for younger age groups (i.e. under 35 years old) only\n",
    "gender_props_u35 = create_summary(survey_ds[survey_ds['Age'] < 35], survey_non_ds[survey_non_ds['Age'] < 35],\n",
    "                                  'Gender_New')\n",
    "\n",
    "print(gender_props_u35)"
   ]
  },
  {
   "cell_type": "code",
   "execution_count": 57,
   "metadata": {},
   "outputs": [
    {
     "data": {
      "image/png": "[encoded data removed]",
      "text/plain": [
       "<Figure size 360x360 with 1 Axes>"
      ]
     },
     "metadata": {
      "needs_background": "light"
     },
     "output_type": "display_data"
    }
   ],
   "source": [
    "# creating comparison plot\n",
    "create_bar_plot(gender_props_u35, 'Gender_New', 'Gender', 'Gender Distribution by Developer Type')"
   ]
  },
  {
   "cell_type": "markdown",
   "metadata": {},
   "source": [
    "#### _Ans: There is very little difference between the gender distributions of data scientists and non-data scientists. Even if we exclude the older respondents, we observe little difference in the distribution._ "
   ]
  },
  {
   "cell_type": "markdown",
   "metadata": {},
   "source": [
    "#### _Q: What is the age distribution between Data Scientists and Non-data Scientists?_ "
   ]
  },
  {
   "cell_type": "markdown",
   "metadata": {},
   "source": [
    "Our null hypothesis is: **The age distributions of the data scientists and non-data scientists are the same at the 5% significance level**."
   ]
  },
  {
   "cell_type": "code",
   "execution_count": 58,
   "metadata": {},
   "outputs": [
    {
     "name": "stdout",
     "output_type": "stream",
     "text": [
      "The mean age of Data Scientists is: 30.89 years with a standard deviation of 8.18 years.\n",
      "The mean age of Non-data Scientists is: 31.19 years with a standard deviation of 8.15 years.\n"
     ]
    }
   ],
   "source": [
    "# calculating summary statistics\n",
    "print('The mean age of Data Scientists is:', round(survey_ds['Age'].mean(), 2), \"years with a standard deviation of\", round(survey_ds['Age'].std(), 2), \"years.\")\n",
    "print('The mean age of Non-data Scientists is:', round(survey_non_ds['Age'].mean(), 2), \"years with a standard deviation of\", round(survey_non_ds['Age'].std(), 2), \"years.\")"
   ]
  },
  {
   "cell_type": "markdown",
   "metadata": {},
   "source": [
    "We first use the **Shapiro-Wilk normality test** to see whether our null hypothesis holds at the 5% significance level. Thus $\\alpha = 0.05$\n",
    "\n",
    "_The Shapiro–Wilk test tests the null hypothesis that a sample $x_1, ..., x_n$ came from a normally distributed population. If the p-value is less than the chosen alpha level, then the null hypothesis is rejected and there is evidence that the data tested is not normally distributed. On the other hand, if the p value is greater than the chosen alpha level, then the null hypothesis that the data came from a normally distributed population can not be rejected (e.g., for an alpha level of .05, a data set with a p-value of less than .05 rejects the null hypothesis that the data is from a normally distributed population)._\n",
    "\n",
    "Source: [Wikipedia](https://en.wikipedia.org/wiki/Shapiro%E2%80%93Wilk_test)"
   ]
  },
  {
   "cell_type": "code",
   "execution_count": 59,
   "metadata": {},
   "outputs": [
    {
     "name": "stdout",
     "output_type": "stream",
     "text": [
      "The p-value for the Shapiro-Wilk normality test for the Data Scientists subset is: 8.407790785948902e-45\n",
      "The p-value for the Shapiro-Wilk normality test for the Non-data Scientists subset is: 0.0\n"
     ]
    }
   ],
   "source": [
    "# checking for normality of distributions\n",
    "print('The p-value for the Shapiro-Wilk normality test for the Data Scientists subset is:',\n",
    "      scipy.stats.shapiro(survey_ds['Age'].dropna())[1])\n",
    "print('The p-value for the Shapiro-Wilk normality test for the Non-data Scientists subset is:',\n",
    "      scipy.stats.shapiro(survey_non_ds['Age'].dropna())[1])"
   ]
  },
  {
   "cell_type": "markdown",
   "metadata": {},
   "source": [
    "For both subsets, we reject the null hypothesis that `Age` is normally distributed at the 5% significance level. Therefore, we need to use the **Mann-Whitney U-test** to compare the two samples.\n",
    "\n",
    "_The Mann–Whitney U test is a nonparametric test of the null hypothesis that it is equally likely that a randomly selected value from one population will be less than or greater than a randomly selected value from a second population. This test can be used to investigate whether two independent samples were selected from populations having the same distribution._\n",
    "\n",
    "Source: [Wikipedia](https://en.wikipedia.org/wiki/Mann%E2%80%93Whitney_U_test)"
   ]
  },
  {
   "cell_type": "code",
   "execution_count": 60,
   "metadata": {},
   "outputs": [
    {
     "name": "stdout",
     "output_type": "stream",
     "text": [
      "The p-value for the Mann-Whitney U test comparing the two distributions is: 0.001041589315016971\n"
     ]
    }
   ],
   "source": [
    "# comparing distributions\n",
    "print('The p-value for the Mann-Whitney U test comparing the two distributions is:', \n",
    "      scipy.stats.mannwhitneyu(survey_ds['Age'].dropna(), survey_non_ds['Age'].dropna())[1])"
   ]
  },
  {
   "cell_type": "markdown",
   "metadata": {},
   "source": [
    "#### _Ans: We see that the p-value for the Mann-Whitney U test is < 0.05. Therefore, we do have to reject the null hypothesis that the age distributions of the data scientists and non-data scientists are the same at the 5% significance level._"
   ]
  },
  {
   "cell_type": "markdown",
   "metadata": {},
   "source": [
    "#### _Q: What is the education level distribution between Data Scientists and Non-data Scientists?_ "
   ]
  },
  {
   "cell_type": "code",
   "execution_count": 61,
   "metadata": {},
   "outputs": [
    {
     "name": "stdout",
     "output_type": "stream",
     "text": [
      "    EdLevel_New  Non-data Scientist  Data Scientist\n",
      "0     No Degree            0.181589        0.103747\n",
      "1     Associate            0.034600        0.015222\n",
      "2     Bachelors            0.516134        0.377986\n",
      "3       Masters            0.237504        0.381967\n",
      "4     Doctorate            0.016193        0.110070\n",
      "5  Professional            0.013979        0.011007\n"
     ]
    }
   ],
   "source": [
    "# creating summary dataframe\n",
    "ed_props = create_summary(survey_ds, survey_non_ds, 'EdLevel_New', index_order = ['No Degree', 'Associate', 'Bachelors', 'Masters', 'Doctorate', 'Professional'])\n",
    "\n",
    "print(ed_props)"
   ]
  },
  {
   "cell_type": "code",
   "execution_count": 62,
   "metadata": {},
   "outputs": [
    {
     "data": {
      "image/png": "[encoded data removed]",
      "text/plain": [
       "<Figure size 360x360 with 1 Axes>"
      ]
     },
     "metadata": {
      "needs_background": "light"
     },
     "output_type": "display_data"
    }
   ],
   "source": [
    "# creating comparison plot\n",
    "create_bar_plot(ed_props, 'EdLevel_New', 'Highest Degree Level', 'Education Level Distribution by Developer Type', rot = 90)"
   ]
  },
  {
   "cell_type": "markdown",
   "metadata": {},
   "source": [
    "#### _Ans: Data scientists are more likely to have an advanced degree (i.e. Masters or Doctorate) than non-data scientists, who in many cases don't even have a degree at all._"
   ]
  },
  {
   "cell_type": "markdown",
   "metadata": {},
   "source": [
    "#### _Q: What is the distribution of undergraduate majors between Data Scientists and Non-data Scientists?_ "
   ]
  },
  {
   "cell_type": "code",
   "execution_count": 63,
   "metadata": {},
   "outputs": [
    {
     "name": "stdout",
     "output_type": "stream",
     "text": [
      "               UndergradMajor_New  Non-data Scientist  Data Scientist\n",
      "0  Arts/Humanities/Social Science            0.050697        0.039683\n",
      "1                        Business            0.019424        0.018105\n",
      "2                Computer Science            0.675770        0.600446\n",
      "3                     Engineering            0.074560        0.084077\n",
      "4                 IT/Info Systems            0.068507        0.031746\n",
      "5                 Math/Statistics            0.029420        0.115327\n",
      "6                   Other Science            0.033492        0.102183\n",
      "7          Web Design/Development            0.048129        0.008433\n"
     ]
    }
   ],
   "source": [
    "# creating summary dataframe\n",
    "major_props = create_summary(survey_ds, survey_non_ds, 'UndergradMajor_New')\n",
    "\n",
    "print(major_props)"
   ]
  },
  {
   "cell_type": "code",
   "execution_count": 64,
   "metadata": {},
   "outputs": [
    {
     "data": {
      "image/png": "[encoded data removed]",
      "text/plain": [
       "<Figure size 360x360 with 1 Axes>"
      ]
     },
     "metadata": {
      "needs_background": "light"
     },
     "output_type": "display_data"
    }
   ],
   "source": [
    "# creating comparison plot\n",
    "create_bar_plot(major_props, 'UndergradMajor_New', 'Undergraduate Major', 'Undergraduate Major Distribution by Developer Type', rot = 90)"
   ]
  },
  {
   "cell_type": "markdown",
   "metadata": {},
   "source": [
    "#### _Ans: Although both data scientists and non-data scientists are most likely to have majored in computer science as undergraduates, a much larger proportion of data scientists came from a math/stats or other science background than non-data scientists._"
   ]
  },
  {
   "cell_type": "markdown",
   "metadata": {},
   "source": [
    "#### _Q: What programming languages do data scientists favor and how do they differ from those used by non-data scientists?_"
   ]
  },
  {
   "cell_type": "code",
   "execution_count": 65,
   "metadata": {},
   "outputs": [
    {
     "data": {
      "text/html": [
       "<style  type=\"text/css\" >\n",
       "    #T_722c1316_9543_11ea_8f24_6030d45e8f22row0_col3 {\n",
       "            width:  10em;\n",
       "             height:  80%;\n",
       "            background:  linear-gradient(90deg, transparent 26.6%, #5fba7d 26.6%, #5fba7d 32.3%, transparent 32.3%);\n",
       "        }    #T_722c1316_9543_11ea_8f24_6030d45e8f22row1_col3 {\n",
       "            width:  10em;\n",
       "             height:  80%;\n",
       "            background:  linear-gradient(90deg, transparent 26.6%, #5fba7d 26.6%, #5fba7d 45.2%, transparent 45.2%);\n",
       "        }    #T_722c1316_9543_11ea_8f24_6030d45e8f22row2_col3 {\n",
       "            width:  10em;\n",
       "             height:  80%;\n",
       "            background:  linear-gradient(90deg, transparent 26.6%, #5fba7d 26.6%, #5fba7d 40.2%, transparent 40.2%);\n",
       "        }    #T_722c1316_9543_11ea_8f24_6030d45e8f22row3_col3 {\n",
       "            width:  10em;\n",
       "             height:  80%;\n",
       "            background:  linear-gradient(90deg, transparent 13.9%, #d65f5f 13.9%, #d65f5f 26.6%, transparent 26.6%);\n",
       "        }    #T_722c1316_9543_11ea_8f24_6030d45e8f22row4_col3 {\n",
       "            width:  10em;\n",
       "             height:  80%;\n",
       "            background:  linear-gradient(90deg, transparent 26.6%, #5fba7d 26.6%, #5fba7d 48.2%, transparent 48.2%);\n",
       "        }    #T_722c1316_9543_11ea_8f24_6030d45e8f22row5_col3 {\n",
       "            width:  10em;\n",
       "             height:  80%;\n",
       "            background:  linear-gradient(90deg, transparent 26.6%, #5fba7d 26.6%, #5fba7d 28.3%, transparent 28.3%);\n",
       "        }    #T_722c1316_9543_11ea_8f24_6030d45e8f22row6_col3 {\n",
       "            width:  10em;\n",
       "             height:  80%;\n",
       "            background:  linear-gradient(90deg, transparent 26.6%, #5fba7d 26.6%, #5fba7d 26.7%, transparent 26.7%);\n",
       "        }    #T_722c1316_9543_11ea_8f24_6030d45e8f22row7_col3 {\n",
       "            width:  10em;\n",
       "             height:  80%;\n",
       "            background:  linear-gradient(90deg, transparent 26.6%, #5fba7d 26.6%, #5fba7d 26.9%, transparent 26.9%);\n",
       "        }    #T_722c1316_9543_11ea_8f24_6030d45e8f22row8_col3 {\n",
       "            width:  10em;\n",
       "             height:  80%;\n",
       "            background:  linear-gradient(90deg, transparent 26.6%, #5fba7d 26.6%, #5fba7d 27.8%, transparent 27.8%);\n",
       "        }    #T_722c1316_9543_11ea_8f24_6030d45e8f22row9_col3 {\n",
       "            width:  10em;\n",
       "             height:  80%;\n",
       "            background:  linear-gradient(90deg, transparent 26.6%, #5fba7d 26.6%, #5fba7d 27.3%, transparent 27.3%);\n",
       "        }    #T_722c1316_9543_11ea_8f24_6030d45e8f22row10_col3 {\n",
       "            width:  10em;\n",
       "             height:  80%;\n",
       "            background:  linear-gradient(90deg, transparent 26.6%, #5fba7d 26.6%, #5fba7d 28.9%, transparent 28.9%);\n",
       "        }    #T_722c1316_9543_11ea_8f24_6030d45e8f22row11_col3 {\n",
       "            width:  10em;\n",
       "             height:  80%;\n",
       "            background:  linear-gradient(90deg, transparent 5.9%, #d65f5f 5.9%, #d65f5f 26.6%, transparent 26.6%);\n",
       "        }    #T_722c1316_9543_11ea_8f24_6030d45e8f22row12_col3 {\n",
       "            width:  10em;\n",
       "             height:  80%;\n",
       "            background:  linear-gradient(90deg, transparent 25.8%, #d65f5f 25.8%, #d65f5f 26.6%, transparent 26.6%);\n",
       "        }    #T_722c1316_9543_11ea_8f24_6030d45e8f22row13_col3 {\n",
       "            width:  10em;\n",
       "             height:  80%;\n",
       "            background:  linear-gradient(90deg,#d65f5f 26.6%, transparent 26.6%);\n",
       "        }    #T_722c1316_9543_11ea_8f24_6030d45e8f22row14_col3 {\n",
       "            width:  10em;\n",
       "             height:  80%;\n",
       "            background:  linear-gradient(90deg, transparent 23.3%, #d65f5f 23.3%, #d65f5f 26.6%, transparent 26.6%);\n",
       "        }    #T_722c1316_9543_11ea_8f24_6030d45e8f22row15_col3 {\n",
       "            width:  10em;\n",
       "             height:  80%;\n",
       "            background:  linear-gradient(90deg, transparent 24.5%, #d65f5f 24.5%, #d65f5f 26.6%, transparent 26.6%);\n",
       "        }    #T_722c1316_9543_11ea_8f24_6030d45e8f22row16_col3 {\n",
       "            width:  10em;\n",
       "             height:  80%;\n",
       "            background:  linear-gradient(90deg, transparent 26.6%, #5fba7d 26.6%, #5fba7d 30.1%, transparent 30.1%);\n",
       "        }    #T_722c1316_9543_11ea_8f24_6030d45e8f22row17_col3 {\n",
       "            width:  10em;\n",
       "             height:  80%;\n",
       "            background:  linear-gradient(90deg, transparent 13.6%, #d65f5f 13.6%, #d65f5f 26.6%, transparent 26.6%);\n",
       "        }    #T_722c1316_9543_11ea_8f24_6030d45e8f22row18_col3 {\n",
       "            width:  10em;\n",
       "             height:  80%;\n",
       "            background:  linear-gradient(90deg, transparent 26.6%, #5fba7d 26.6%, #5fba7d 100.0%, transparent 100.0%);\n",
       "        }    #T_722c1316_9543_11ea_8f24_6030d45e8f22row19_col3 {\n",
       "            width:  10em;\n",
       "             height:  80%;\n",
       "            background:  linear-gradient(90deg, transparent 26.6%, #5fba7d 26.6%, #5fba7d 65.5%, transparent 65.5%);\n",
       "        }    #T_722c1316_9543_11ea_8f24_6030d45e8f22row20_col3 {\n",
       "            width:  10em;\n",
       "             height:  80%;\n",
       "            background:  linear-gradient(90deg, transparent 23.6%, #d65f5f 23.6%, #d65f5f 26.6%, transparent 26.6%);\n",
       "        }    #T_722c1316_9543_11ea_8f24_6030d45e8f22row21_col3 {\n",
       "            width:  10em;\n",
       "             height:  80%;\n",
       "            background:  linear-gradient(90deg, transparent 26.6%, #5fba7d 26.6%, #5fba7d 28.5%, transparent 28.5%);\n",
       "        }    #T_722c1316_9543_11ea_8f24_6030d45e8f22row22_col3 {\n",
       "            width:  10em;\n",
       "             height:  80%;\n",
       "            background:  linear-gradient(90deg, transparent 26.6%, #5fba7d 26.6%, #5fba7d 33.9%, transparent 33.9%);\n",
       "        }    #T_722c1316_9543_11ea_8f24_6030d45e8f22row23_col3 {\n",
       "            width:  10em;\n",
       "             height:  80%;\n",
       "            background:  linear-gradient(90deg, transparent 26.6%, #5fba7d 26.6%, #5fba7d 38.6%, transparent 38.6%);\n",
       "        }    #T_722c1316_9543_11ea_8f24_6030d45e8f22row24_col3 {\n",
       "            width:  10em;\n",
       "             height:  80%;\n",
       "            background:  linear-gradient(90deg, transparent 23.8%, #d65f5f 23.8%, #d65f5f 26.6%, transparent 26.6%);\n",
       "        }    #T_722c1316_9543_11ea_8f24_6030d45e8f22row25_col3 {\n",
       "            width:  10em;\n",
       "             height:  80%;\n",
       "            background:  linear-gradient(90deg, transparent 11.0%, #d65f5f 11.0%, #d65f5f 26.6%, transparent 26.6%);\n",
       "        }    #T_722c1316_9543_11ea_8f24_6030d45e8f22row26_col3 {\n",
       "            width:  10em;\n",
       "             height:  80%;\n",
       "            background:  linear-gradient(90deg, transparent 26.6%, #5fba7d 26.6%, #5fba7d 29.3%, transparent 29.3%);\n",
       "        }    #T_722c1316_9543_11ea_8f24_6030d45e8f22row27_col3 {\n",
       "            width:  10em;\n",
       "             height:  80%;\n",
       "            background:  linear-gradient(90deg, transparent 26.6%, #5fba7d 26.6%, #5fba7d 27.8%, transparent 27.8%);\n",
       "        }</style><table id=\"T_722c1316_9543_11ea_8f24_6030d45e8f22\" ><thead>    <tr>        <th class=\"blank level0\" ></th>        <th class=\"col_heading level0 col0\" >LanguageWorkedWith</th>        <th class=\"col_heading level0 col1\" >Non-data Scientist</th>        <th class=\"col_heading level0 col2\" >Data Scientist</th>        <th class=\"col_heading level0 col3\" >Diff</th>    </tr></thead><tbody>\n",
       "                <tr>\n",
       "                        <th id=\"T_722c1316_9543_11ea_8f24_6030d45e8f22level0_row0\" class=\"row_heading level0 row0\" >0</th>\n",
       "                        <td id=\"T_722c1316_9543_11ea_8f24_6030d45e8f22row0_col0\" class=\"data row0 col0\" >Assembly</td>\n",
       "                        <td id=\"T_722c1316_9543_11ea_8f24_6030d45e8f22row0_col1\" class=\"data row0 col1\" >0.0447228</td>\n",
       "                        <td id=\"T_722c1316_9543_11ea_8f24_6030d45e8f22row0_col2\" class=\"data row0 col2\" >0.0799534</td>\n",
       "                        <td id=\"T_722c1316_9543_11ea_8f24_6030d45e8f22row0_col3\" class=\"data row0 col3\" >0.0352306</td>\n",
       "            </tr>\n",
       "            <tr>\n",
       "                        <th id=\"T_722c1316_9543_11ea_8f24_6030d45e8f22level0_row1\" class=\"row_heading level0 row1\" >1</th>\n",
       "                        <td id=\"T_722c1316_9543_11ea_8f24_6030d45e8f22row1_col0\" class=\"data row1 col0\" >Bash/Shell/PowerShell</td>\n",
       "                        <td id=\"T_722c1316_9543_11ea_8f24_6030d45e8f22row1_col1\" class=\"data row1 col1\" >0.363293</td>\n",
       "                        <td id=\"T_722c1316_9543_11ea_8f24_6030d45e8f22row1_col2\" class=\"data row1 col2\" >0.478322</td>\n",
       "                        <td id=\"T_722c1316_9543_11ea_8f24_6030d45e8f22row1_col3\" class=\"data row1 col3\" >0.115028</td>\n",
       "            </tr>\n",
       "            <tr>\n",
       "                        <th id=\"T_722c1316_9543_11ea_8f24_6030d45e8f22level0_row2\" class=\"row_heading level0 row2\" >2</th>\n",
       "                        <td id=\"T_722c1316_9543_11ea_8f24_6030d45e8f22row2_col0\" class=\"data row2 col0\" >C</td>\n",
       "                        <td id=\"T_722c1316_9543_11ea_8f24_6030d45e8f22row2_col1\" class=\"data row2 col1\" >0.162241</td>\n",
       "                        <td id=\"T_722c1316_9543_11ea_8f24_6030d45e8f22row2_col2\" class=\"data row2 col2\" >0.24662</td>\n",
       "                        <td id=\"T_722c1316_9543_11ea_8f24_6030d45e8f22row2_col3\" class=\"data row2 col3\" >0.0843789</td>\n",
       "            </tr>\n",
       "            <tr>\n",
       "                        <th id=\"T_722c1316_9543_11ea_8f24_6030d45e8f22level0_row3\" class=\"row_heading level0 row3\" >3</th>\n",
       "                        <td id=\"T_722c1316_9543_11ea_8f24_6030d45e8f22row3_col0\" class=\"data row3 col0\" >C#</td>\n",
       "                        <td id=\"T_722c1316_9543_11ea_8f24_6030d45e8f22row3_col1\" class=\"data row3 col1\" >0.337609</td>\n",
       "                        <td id=\"T_722c1316_9543_11ea_8f24_6030d45e8f22row3_col2\" class=\"data row3 col2\" >0.259207</td>\n",
       "                        <td id=\"T_722c1316_9543_11ea_8f24_6030d45e8f22row3_col3\" class=\"data row3 col3\" >-0.0784011</td>\n",
       "            </tr>\n",
       "            <tr>\n",
       "                        <th id=\"T_722c1316_9543_11ea_8f24_6030d45e8f22level0_row4\" class=\"row_heading level0 row4\" >4</th>\n",
       "                        <td id=\"T_722c1316_9543_11ea_8f24_6030d45e8f22row4_col0\" class=\"data row4 col0\" >C++</td>\n",
       "                        <td id=\"T_722c1316_9543_11ea_8f24_6030d45e8f22row4_col1\" class=\"data row4 col1\" >0.192652</td>\n",
       "                        <td id=\"T_722c1316_9543_11ea_8f24_6030d45e8f22row4_col2\" class=\"data row4 col2\" >0.32634</td>\n",
       "                        <td id=\"T_722c1316_9543_11ea_8f24_6030d45e8f22row4_col3\" class=\"data row4 col3\" >0.133688</td>\n",
       "            </tr>\n",
       "            <tr>\n",
       "                        <th id=\"T_722c1316_9543_11ea_8f24_6030d45e8f22level0_row5\" class=\"row_heading level0 row5\" >5</th>\n",
       "                        <td id=\"T_722c1316_9543_11ea_8f24_6030d45e8f22row5_col0\" class=\"data row5 col0\" >Clojure</td>\n",
       "                        <td id=\"T_722c1316_9543_11ea_8f24_6030d45e8f22row5_col1\" class=\"data row5 col1\" >0.0148798</td>\n",
       "                        <td id=\"T_722c1316_9543_11ea_8f24_6030d45e8f22row5_col2\" class=\"data row5 col2\" >0.0254079</td>\n",
       "                        <td id=\"T_722c1316_9543_11ea_8f24_6030d45e8f22row5_col3\" class=\"data row5 col3\" >0.0105282</td>\n",
       "            </tr>\n",
       "            <tr>\n",
       "                        <th id=\"T_722c1316_9543_11ea_8f24_6030d45e8f22level0_row6\" class=\"row_heading level0 row6\" >6</th>\n",
       "                        <td id=\"T_722c1316_9543_11ea_8f24_6030d45e8f22row6_col0\" class=\"data row6 col0\" >Dart</td>\n",
       "                        <td id=\"T_722c1316_9543_11ea_8f24_6030d45e8f22row6_col1\" class=\"data row6 col1\" >0.018821</td>\n",
       "                        <td id=\"T_722c1316_9543_11ea_8f24_6030d45e8f22row6_col2\" class=\"data row6 col2\" >0.0198135</td>\n",
       "                        <td id=\"T_722c1316_9543_11ea_8f24_6030d45e8f22row6_col3\" class=\"data row6 col3\" >0.000992545</td>\n",
       "            </tr>\n",
       "            <tr>\n",
       "                        <th id=\"T_722c1316_9543_11ea_8f24_6030d45e8f22level0_row7\" class=\"row_heading level0 row7\" >7</th>\n",
       "                        <td id=\"T_722c1316_9543_11ea_8f24_6030d45e8f22row7_col0\" class=\"data row7 col0\" >Elixir</td>\n",
       "                        <td id=\"T_722c1316_9543_11ea_8f24_6030d45e8f22row7_col1\" class=\"data row7 col1\" >0.0160989</td>\n",
       "                        <td id=\"T_722c1316_9543_11ea_8f24_6030d45e8f22row7_col2\" class=\"data row7 col2\" >0.0179487</td>\n",
       "                        <td id=\"T_722c1316_9543_11ea_8f24_6030d45e8f22row7_col3\" class=\"data row7 col3\" >0.00184985</td>\n",
       "            </tr>\n",
       "            <tr>\n",
       "                        <th id=\"T_722c1316_9543_11ea_8f24_6030d45e8f22level0_row8\" class=\"row_heading level0 row8\" >8</th>\n",
       "                        <td id=\"T_722c1316_9543_11ea_8f24_6030d45e8f22row8_col0\" class=\"data row8 col0\" >Erlang</td>\n",
       "                        <td id=\"T_722c1316_9543_11ea_8f24_6030d45e8f22row8_col1\" class=\"data row8 col1\" >0.00883434</td>\n",
       "                        <td id=\"T_722c1316_9543_11ea_8f24_6030d45e8f22row8_col2\" class=\"data row8 col2\" >0.0165501</td>\n",
       "                        <td id=\"T_722c1316_9543_11ea_8f24_6030d45e8f22row8_col3\" class=\"data row8 col3\" >0.00771578</td>\n",
       "            </tr>\n",
       "            <tr>\n",
       "                        <th id=\"T_722c1316_9543_11ea_8f24_6030d45e8f22level0_row9\" class=\"row_heading level0 row9\" >9</th>\n",
       "                        <td id=\"T_722c1316_9543_11ea_8f24_6030d45e8f22row9_col0\" class=\"data row9 col0\" >F#</td>\n",
       "                        <td id=\"T_722c1316_9543_11ea_8f24_6030d45e8f22row9_col1\" class=\"data row9 col1\" >0.0111723</td>\n",
       "                        <td id=\"T_722c1316_9543_11ea_8f24_6030d45e8f22row9_col2\" class=\"data row9 col2\" >0.0158508</td>\n",
       "                        <td id=\"T_722c1316_9543_11ea_8f24_6030d45e8f22row9_col3\" class=\"data row9 col3\" >0.00467847</td>\n",
       "            </tr>\n",
       "            <tr>\n",
       "                        <th id=\"T_722c1316_9543_11ea_8f24_6030d45e8f22level0_row10\" class=\"row_heading level0 row10\" >10</th>\n",
       "                        <td id=\"T_722c1316_9543_11ea_8f24_6030d45e8f22row10_col0\" class=\"data row10 col0\" >Go</td>\n",
       "                        <td id=\"T_722c1316_9543_11ea_8f24_6030d45e8f22row10_col1\" class=\"data row10 col1\" >0.0884269</td>\n",
       "                        <td id=\"T_722c1316_9543_11ea_8f24_6030d45e8f22row10_col2\" class=\"data row10 col2\" >0.102564</td>\n",
       "                        <td id=\"T_722c1316_9543_11ea_8f24_6030d45e8f22row10_col3\" class=\"data row10 col3\" >0.0141372</td>\n",
       "            </tr>\n",
       "            <tr>\n",
       "                        <th id=\"T_722c1316_9543_11ea_8f24_6030d45e8f22level0_row11\" class=\"row_heading level0 row11\" >11</th>\n",
       "                        <td id=\"T_722c1316_9543_11ea_8f24_6030d45e8f22row11_col0\" class=\"data row11 col0\" >HTML/CSS</td>\n",
       "                        <td id=\"T_722c1316_9543_11ea_8f24_6030d45e8f22row11_col1\" class=\"data row11 col1\" >0.65182</td>\n",
       "                        <td id=\"T_722c1316_9543_11ea_8f24_6030d45e8f22row11_col2\" class=\"data row11 col2\" >0.524009</td>\n",
       "                        <td id=\"T_722c1316_9543_11ea_8f24_6030d45e8f22row11_col3\" class=\"data row11 col3\" >-0.127811</td>\n",
       "            </tr>\n",
       "            <tr>\n",
       "                        <th id=\"T_722c1316_9543_11ea_8f24_6030d45e8f22level0_row12\" class=\"row_heading level0 row12\" >12</th>\n",
       "                        <td id=\"T_722c1316_9543_11ea_8f24_6030d45e8f22row12_col0\" class=\"data row12 col0\" >Java</td>\n",
       "                        <td id=\"T_722c1316_9543_11ea_8f24_6030d45e8f22row12_col1\" class=\"data row12 col1\" >0.40354</td>\n",
       "                        <td id=\"T_722c1316_9543_11ea_8f24_6030d45e8f22row12_col2\" class=\"data row12 col2\" >0.398601</td>\n",
       "                        <td id=\"T_722c1316_9543_11ea_8f24_6030d45e8f22row12_col3\" class=\"data row12 col3\" >-0.00493902</td>\n",
       "            </tr>\n",
       "            <tr>\n",
       "                        <th id=\"T_722c1316_9543_11ea_8f24_6030d45e8f22level0_row13\" class=\"row_heading level0 row13\" >13</th>\n",
       "                        <td id=\"T_722c1316_9543_11ea_8f24_6030d45e8f22row13_col0\" class=\"data row13 col0\" >JavaScript</td>\n",
       "                        <td id=\"T_722c1316_9543_11ea_8f24_6030d45e8f22row13_col1\" class=\"data row13 col1\" >0.731847</td>\n",
       "                        <td id=\"T_722c1316_9543_11ea_8f24_6030d45e8f22row13_col2\" class=\"data row13 col2\" >0.567599</td>\n",
       "                        <td id=\"T_722c1316_9543_11ea_8f24_6030d45e8f22row13_col3\" class=\"data row13 col3\" >-0.164248</td>\n",
       "            </tr>\n",
       "            <tr>\n",
       "                        <th id=\"T_722c1316_9543_11ea_8f24_6030d45e8f22level0_row14\" class=\"row_heading level0 row14\" >14</th>\n",
       "                        <td id=\"T_722c1316_9543_11ea_8f24_6030d45e8f22row14_col0\" class=\"data row14 col0\" >Kotlin</td>\n",
       "                        <td id=\"T_722c1316_9543_11ea_8f24_6030d45e8f22row14_col1\" class=\"data row14 col1\" >0.0716767</td>\n",
       "                        <td id=\"T_722c1316_9543_11ea_8f24_6030d45e8f22row14_col2\" class=\"data row14 col2\" >0.0515152</td>\n",
       "                        <td id=\"T_722c1316_9543_11ea_8f24_6030d45e8f22row14_col3\" class=\"data row14 col3\" >-0.0201615</td>\n",
       "            </tr>\n",
       "            <tr>\n",
       "                        <th id=\"T_722c1316_9543_11ea_8f24_6030d45e8f22level0_row15\" class=\"row_heading level0 row15\" >15</th>\n",
       "                        <td id=\"T_722c1316_9543_11ea_8f24_6030d45e8f22row15_col0\" class=\"data row15 col0\" >Objective-C</td>\n",
       "                        <td id=\"T_722c1316_9543_11ea_8f24_6030d45e8f22row15_col1\" class=\"data row15 col1\" >0.0559619</td>\n",
       "                        <td id=\"T_722c1316_9543_11ea_8f24_6030d45e8f22row15_col2\" class=\"data row15 col2\" >0.0431235</td>\n",
       "                        <td id=\"T_722c1316_9543_11ea_8f24_6030d45e8f22row15_col3\" class=\"data row15 col3\" >-0.0128384</td>\n",
       "            </tr>\n",
       "            <tr>\n",
       "                        <th id=\"T_722c1316_9543_11ea_8f24_6030d45e8f22level0_row16\" class=\"row_heading level0 row16\" >16</th>\n",
       "                        <td id=\"T_722c1316_9543_11ea_8f24_6030d45e8f22row16_col0\" class=\"data row16 col0\" >Other(s):</td>\n",
       "                        <td id=\"T_722c1316_9543_11ea_8f24_6030d45e8f22row16_col1\" class=\"data row16 col1\" >0.0832832</td>\n",
       "                        <td id=\"T_722c1316_9543_11ea_8f24_6030d45e8f22row16_col2\" class=\"data row16 col2\" >0.104895</td>\n",
       "                        <td id=\"T_722c1316_9543_11ea_8f24_6030d45e8f22row16_col3\" class=\"data row16 col3\" >0.0216119</td>\n",
       "            </tr>\n",
       "            <tr>\n",
       "                        <th id=\"T_722c1316_9543_11ea_8f24_6030d45e8f22level0_row17\" class=\"row_heading level0 row17\" >17</th>\n",
       "                        <td id=\"T_722c1316_9543_11ea_8f24_6030d45e8f22row17_col0\" class=\"data row17 col0\" >PHP</td>\n",
       "                        <td id=\"T_722c1316_9543_11ea_8f24_6030d45e8f22row17_col1\" class=\"data row17 col1\" >0.266566</td>\n",
       "                        <td id=\"T_722c1316_9543_11ea_8f24_6030d45e8f22row17_col2\" class=\"data row17 col2\" >0.186247</td>\n",
       "                        <td id=\"T_722c1316_9543_11ea_8f24_6030d45e8f22row17_col3\" class=\"data row17 col3\" >-0.0803194</td>\n",
       "            </tr>\n",
       "            <tr>\n",
       "                        <th id=\"T_722c1316_9543_11ea_8f24_6030d45e8f22level0_row18\" class=\"row_heading level0 row18\" >18</th>\n",
       "                        <td id=\"T_722c1316_9543_11ea_8f24_6030d45e8f22row18_col0\" class=\"data row18 col0\" >Python</td>\n",
       "                        <td id=\"T_722c1316_9543_11ea_8f24_6030d45e8f22row18_col1\" class=\"data row18 col1\" >0.340581</td>\n",
       "                        <td id=\"T_722c1316_9543_11ea_8f24_6030d45e8f22row18_col2\" class=\"data row18 col2\" >0.794406</td>\n",
       "                        <td id=\"T_722c1316_9543_11ea_8f24_6030d45e8f22row18_col3\" class=\"data row18 col3\" >0.453824</td>\n",
       "            </tr>\n",
       "            <tr>\n",
       "                        <th id=\"T_722c1316_9543_11ea_8f24_6030d45e8f22level0_row19\" class=\"row_heading level0 row19\" >19</th>\n",
       "                        <td id=\"T_722c1316_9543_11ea_8f24_6030d45e8f22row19_col0\" class=\"data row19 col0\" >R</td>\n",
       "                        <td id=\"T_722c1316_9543_11ea_8f24_6030d45e8f22row19_col1\" class=\"data row19 col1\" >0.0256847</td>\n",
       "                        <td id=\"T_722c1316_9543_11ea_8f24_6030d45e8f22row19_col2\" class=\"data row19 col2\" >0.2662</td>\n",
       "                        <td id=\"T_722c1316_9543_11ea_8f24_6030d45e8f22row19_col3\" class=\"data row19 col3\" >0.240516</td>\n",
       "            </tr>\n",
       "            <tr>\n",
       "                        <th id=\"T_722c1316_9543_11ea_8f24_6030d45e8f22level0_row20\" class=\"row_heading level0 row20\" >20</th>\n",
       "                        <td id=\"T_722c1316_9543_11ea_8f24_6030d45e8f22row20_col0\" class=\"data row20 col0\" >Ruby</td>\n",
       "                        <td id=\"T_722c1316_9543_11ea_8f24_6030d45e8f22row20_col1\" class=\"data row20 col1\" >0.0921343</td>\n",
       "                        <td id=\"T_722c1316_9543_11ea_8f24_6030d45e8f22row20_col2\" class=\"data row20 col2\" >0.0736597</td>\n",
       "                        <td id=\"T_722c1316_9543_11ea_8f24_6030d45e8f22row20_col3\" class=\"data row20 col3\" >-0.0184746</td>\n",
       "            </tr>\n",
       "            <tr>\n",
       "                        <th id=\"T_722c1316_9543_11ea_8f24_6030d45e8f22level0_row21\" class=\"row_heading level0 row21\" >21</th>\n",
       "                        <td id=\"T_722c1316_9543_11ea_8f24_6030d45e8f22row21_col0\" class=\"data row21 col0\" >Rust</td>\n",
       "                        <td id=\"T_722c1316_9543_11ea_8f24_6030d45e8f22row21_col1\" class=\"data row21 col1\" >0.0289579</td>\n",
       "                        <td id=\"T_722c1316_9543_11ea_8f24_6030d45e8f22row21_col2\" class=\"data row21 col2\" >0.0410256</td>\n",
       "                        <td id=\"T_722c1316_9543_11ea_8f24_6030d45e8f22row21_col3\" class=\"data row21 col3\" >0.0120677</td>\n",
       "            </tr>\n",
       "            <tr>\n",
       "                        <th id=\"T_722c1316_9543_11ea_8f24_6030d45e8f22level0_row22\" class=\"row_heading level0 row22\" >22</th>\n",
       "                        <td id=\"T_722c1316_9543_11ea_8f24_6030d45e8f22row22_col0\" class=\"data row22 col0\" >SQL</td>\n",
       "                        <td id=\"T_722c1316_9543_11ea_8f24_6030d45e8f22row22_col1\" class=\"data row22 col1\" >0.568921</td>\n",
       "                        <td id=\"T_722c1316_9543_11ea_8f24_6030d45e8f22row22_col2\" class=\"data row22 col2\" >0.613986</td>\n",
       "                        <td id=\"T_722c1316_9543_11ea_8f24_6030d45e8f22row22_col3\" class=\"data row22 col3\" >0.0450648</td>\n",
       "            </tr>\n",
       "            <tr>\n",
       "                        <th id=\"T_722c1316_9543_11ea_8f24_6030d45e8f22level0_row23\" class=\"row_heading level0 row23\" >23</th>\n",
       "                        <td id=\"T_722c1316_9543_11ea_8f24_6030d45e8f22row23_col0\" class=\"data row23 col0\" >Scala</td>\n",
       "                        <td id=\"T_722c1316_9543_11ea_8f24_6030d45e8f22row23_col1\" class=\"data row23 col1\" >0.0380595</td>\n",
       "                        <td id=\"T_722c1316_9543_11ea_8f24_6030d45e8f22row23_col2\" class=\"data row23 col2\" >0.112354</td>\n",
       "                        <td id=\"T_722c1316_9543_11ea_8f24_6030d45e8f22row23_col3\" class=\"data row23 col3\" >0.0742949</td>\n",
       "            </tr>\n",
       "            <tr>\n",
       "                        <th id=\"T_722c1316_9543_11ea_8f24_6030d45e8f22level0_row24\" class=\"row_heading level0 row24\" >24</th>\n",
       "                        <td id=\"T_722c1316_9543_11ea_8f24_6030d45e8f22row24_col0\" class=\"data row24 col0\" >Swift</td>\n",
       "                        <td id=\"T_722c1316_9543_11ea_8f24_6030d45e8f22row24_col1\" class=\"data row24 col1\" >0.0724616</td>\n",
       "                        <td id=\"T_722c1316_9543_11ea_8f24_6030d45e8f22row24_col2\" class=\"data row24 col2\" >0.0552448</td>\n",
       "                        <td id=\"T_722c1316_9543_11ea_8f24_6030d45e8f22row24_col3\" class=\"data row24 col3\" >-0.0172168</td>\n",
       "            </tr>\n",
       "            <tr>\n",
       "                        <th id=\"T_722c1316_9543_11ea_8f24_6030d45e8f22level0_row25\" class=\"row_heading level0 row25\" >25</th>\n",
       "                        <td id=\"T_722c1316_9543_11ea_8f24_6030d45e8f22row25_col0\" class=\"data row25 col0\" >TypeScript</td>\n",
       "                        <td id=\"T_722c1316_9543_11ea_8f24_6030d45e8f22row25_col1\" class=\"data row25 col1\" >0.260905</td>\n",
       "                        <td id=\"T_722c1316_9543_11ea_8f24_6030d45e8f22row25_col2\" class=\"data row25 col2\" >0.164569</td>\n",
       "                        <td id=\"T_722c1316_9543_11ea_8f24_6030d45e8f22row25_col3\" class=\"data row25 col3\" >-0.0963364</td>\n",
       "            </tr>\n",
       "            <tr>\n",
       "                        <th id=\"T_722c1316_9543_11ea_8f24_6030d45e8f22level0_row26\" class=\"row_heading level0 row26\" >26</th>\n",
       "                        <td id=\"T_722c1316_9543_11ea_8f24_6030d45e8f22row26_col0\" class=\"data row26 col0\" >VBA</td>\n",
       "                        <td id=\"T_722c1316_9543_11ea_8f24_6030d45e8f22row26_col1\" class=\"data row26 col1\" >0.0443721</td>\n",
       "                        <td id=\"T_722c1316_9543_11ea_8f24_6030d45e8f22row26_col2\" class=\"data row26 col2\" >0.0613054</td>\n",
       "                        <td id=\"T_722c1316_9543_11ea_8f24_6030d45e8f22row26_col3\" class=\"data row26 col3\" >0.0169333</td>\n",
       "            </tr>\n",
       "            <tr>\n",
       "                        <th id=\"T_722c1316_9543_11ea_8f24_6030d45e8f22level0_row27\" class=\"row_heading level0 row27\" >27</th>\n",
       "                        <td id=\"T_722c1316_9543_11ea_8f24_6030d45e8f22row27_col0\" class=\"data row27 col0\" >WebAssembly</td>\n",
       "                        <td id=\"T_722c1316_9543_11ea_8f24_6030d45e8f22row27_col1\" class=\"data row27 col1\" >0.010521</td>\n",
       "                        <td id=\"T_722c1316_9543_11ea_8f24_6030d45e8f22row27_col2\" class=\"data row27 col2\" >0.0181818</td>\n",
       "                        <td id=\"T_722c1316_9543_11ea_8f24_6030d45e8f22row27_col3\" class=\"data row27 col3\" >0.00766078</td>\n",
       "            </tr>\n",
       "    </tbody></table>"
      ],
      "text/plain": [
       "<pandas.io.formats.style.Styler at 0x1c23e72590>"
      ]
     },
     "execution_count": 65,
     "metadata": {},
     "output_type": "execute_result"
    }
   ],
   "source": [
    "# Create summary dataframe\n",
    "language_props = create_summary(languages_ds, languages_non_ds, 'LanguageWorkedWith', drop = False, multi = True)\n",
    "\n",
    "# Create difference plot\n",
    "language_props['Diff'] = language_props['Data Scientist'] - language_props['Non-data Scientist']\n",
    "language_props.style.bar(subset = ['Diff'], align = 'mid', color = ['#d65f5f', '#5fba7d'])"
   ]
  },
  {
   "cell_type": "markdown",
   "metadata": {},
   "source": [
    "**Green** indicates that the respective language is favored more by **data scientists** and **red** indicates that the language is favored more by **non-data scientists**."
   ]
  },
  {
   "cell_type": "code",
   "execution_count": 66,
   "metadata": {},
   "outputs": [
    {
     "name": "stdout",
     "output_type": "stream",
     "text": [
      "The top 10 languages used by data scientists:\n",
      "\n",
      "1 Python\n",
      "\n",
      "2 SQL\n",
      "\n",
      "3 JavaScript\n",
      "\n",
      "4 HTML/CSS\n",
      "\n",
      "5 Bash/Shell/PowerShell\n",
      "\n",
      "6 Java\n",
      "\n",
      "7 C++\n",
      "\n",
      "8 R\n",
      "\n",
      "9 C#\n",
      "\n",
      "10 C\n",
      "\n"
     ]
    }
   ],
   "source": [
    "# getting top 10 languages used by data scientists\n",
    "ctr_ds = Counter(languages_ds['LanguageWorkedWith']).most_common(10)\n",
    "print(\"The top 10 languages used by data scientists:\")\n",
    "print()\n",
    "for i in range(len(ctr_ds)):\n",
    "    print(i+1,ctr_ds[i][0])\n",
    "    print()\n",
    "    \n",
    "top10_ds = list(list(zip(*ctr_ds))[0])"
   ]
  },
  {
   "cell_type": "code",
   "execution_count": 67,
   "metadata": {},
   "outputs": [
    {
     "name": "stdout",
     "output_type": "stream",
     "text": [
      "The top 10 languages used by non-data scientists:\n",
      "\n",
      "1 JavaScript\n",
      "\n",
      "2 HTML/CSS\n",
      "\n",
      "3 SQL\n",
      "\n",
      "4 Java\n",
      "\n",
      "5 Bash/Shell/PowerShell\n",
      "\n",
      "6 Python\n",
      "\n",
      "7 C#\n",
      "\n",
      "8 PHP\n",
      "\n",
      "9 TypeScript\n",
      "\n",
      "10 C++\n",
      "\n"
     ]
    }
   ],
   "source": [
    "# getting top 10 languages used by non-data scientists\n",
    "ctr_nonds = Counter(languages_non_ds['LanguageWorkedWith']).most_common(10)\n",
    "print(\"The top 10 languages used by non-data scientists:\")\n",
    "print()\n",
    "for i in range(len(ctr_nonds)):\n",
    "    print(i+1,ctr_nonds[i][0])\n",
    "    print()\n",
    "    \n",
    "top10_non_ds = list(list(zip(*ctr_nonds))[0])"
   ]
  },
  {
   "cell_type": "code",
   "execution_count": 68,
   "metadata": {},
   "outputs": [
    {
     "data": {
      "image/png": "[encoded data removed]",
      "text/plain": [
       "<Figure size 360x360 with 1 Axes>"
      ]
     },
     "metadata": {
      "needs_background": "light"
     },
     "output_type": "display_data"
    }
   ],
   "source": [
    "# creating top 10 languages comparison plot for data scientists\n",
    "top10_props_ds = language_props[ language_props['LanguageWorkedWith'].isin(top10_ds) ].sort_values('Data Scientist', ascending = False)\n",
    "top10_props_ds.drop('Diff', axis = 1, inplace = True)\n",
    "\n",
    "create_bar_plot(top10_props_ds, 'LanguageWorkedWith', 'Programming Language', 'Top 10 Programming Languages For Data Scientists', rot = 90)"
   ]
  },
  {
   "cell_type": "code",
   "execution_count": 69,
   "metadata": {},
   "outputs": [
    {
     "data": {
      "image/png": "[encoded data removed]",
      "text/plain": [
       "<Figure size 360x360 with 1 Axes>"
      ]
     },
     "metadata": {
      "needs_background": "light"
     },
     "output_type": "display_data"
    }
   ],
   "source": [
    "# creating top 10 languages comparison plot for non-data scientists\n",
    "top10_props_non_ds = language_props[language_props['LanguageWorkedWith'].isin(top10_non_ds)].sort_values('Non-data Scientist', ascending = False)\n",
    "top10_props_non_ds.drop('Diff', axis = 1, inplace = True)\n",
    "\n",
    "create_bar_plot(top10_props_non_ds, 'LanguageWorkedWith', 'Programming Language', 'Top 10 Programming Languages For Non-Data Scientists', rot = 90)"
   ]
  },
  {
   "cell_type": "markdown",
   "metadata": {},
   "source": [
    "#### _Ans: There are lots of overlaps between the top 10 programming languages used by data scientists and non-data scientists. However, comparing the proportion of each subset that program in each language, data scientists are much more likely to program in Python, or R than non-data scientists (i.e. languages that are typically used for performing data science related activities, such as fitting statistical models), while non-data scientists are more likely to program in HTML, CSS and Javascript (i.e. languages often used for web design activities). Just because a data scientist and a non-data scientist use the same programming language, doesn't necessarily mean that they are using it for the same purpose. This is particularly the case with languages such as Python which comprise many packages for different purposes._"
   ]
  },
  {
   "cell_type": "markdown",
   "metadata": {},
   "source": [
    "#### _Q: How much coding experience do data scientists have compared to non-data scientists?_"
   ]
  },
  {
   "cell_type": "markdown",
   "metadata": {},
   "source": [
    "Our null hypothesis is: **The years of coding experience of the data scientists and non-data scientists are the same at the 5% significance level**."
   ]
  },
  {
   "cell_type": "code",
   "execution_count": 70,
   "metadata": {},
   "outputs": [],
   "source": [
    "# converting data to int type\n",
    "def convert_to_int (df):\n",
    "    df['YearsCode'] = df['YearsCode'].astype(str)\n",
    "    df['YearsCode'] = df['YearsCode'].replace(\"Less than 1 year\", \"0\")\n",
    "    df['YearsCode'] = df['YearsCode'].replace(\"More than 50 years\", \"51\")\n",
    "    df['YearsCode'] = df['YearsCode'].replace(\"nan\", \"0\")\n",
    "    df['YearsCode'] = df['YearsCode'].astype(int)\n",
    "    \n",
    "    df['YearsCodePro'] = df['YearsCodePro'].astype(str)\n",
    "    df['YearsCodePro'] = df['YearsCodePro'].replace(\"Less than 1 year\", \"0\")\n",
    "    df['YearsCodePro'] = df['YearsCodePro'].replace(\"More than 50 years\", \"51\")\n",
    "    df['YearsCodePro'] = df['YearsCodePro'].replace(\"nan\", \"0\")\n",
    "    df['YearsCodePro'] = df['YearsCodePro'].astype(int)\n",
    "\n",
    "    return df"
   ]
  },
  {
   "cell_type": "code",
   "execution_count": 71,
   "metadata": {},
   "outputs": [],
   "source": [
    "survey_ds = convert_to_int(survey_ds)\n",
    "survey_non_ds = convert_to_int(survey_non_ds)"
   ]
  },
  {
   "cell_type": "markdown",
   "metadata": {},
   "source": [
    "For general number of years of coding experience."
   ]
  },
  {
   "cell_type": "code",
   "execution_count": 72,
   "metadata": {},
   "outputs": [
    {
     "name": "stdout",
     "output_type": "stream",
     "text": [
      "The mean number of years coding for Data Scientists is: 13.02 years with a standard deviation of 9.23 years.\n",
      "The mean number of years coding for Non-data Scientists is: 12.61 years with a standard deviation of 8.75 years.\n"
     ]
    }
   ],
   "source": [
    "# calculating summary statistics\n",
    "\n",
    "print('The mean number of years coding for Data Scientists is:', round(survey_ds['YearsCode'].mean(), 2), \"years with a standard deviation of\", round(survey_ds['YearsCode'].std(), 2), \"years.\")\n",
    "print('The mean number of years coding for Non-data Scientists is:', round(survey_non_ds['YearsCode'].mean(), 2), \"years with a standard deviation of\", round(survey_non_ds['YearsCode'].std(), 2), \"years.\")\n"
   ]
  },
  {
   "cell_type": "code",
   "execution_count": 73,
   "metadata": {},
   "outputs": [
    {
     "name": "stdout",
     "output_type": "stream",
     "text": [
      "The p-value for the Shapiro-Wilk normality test for the data scientists subset is: 0.0\n",
      "The p-value for the Shapiro-Wilk normality test for the non-data scientists subset is: 0.0\n"
     ]
    }
   ],
   "source": [
    "# checking for normality of distributions\n",
    "print('The p-value for the Shapiro-Wilk normality test for the data scientists subset is:',\n",
    "      scipy.stats.shapiro(survey_ds['YearsCode'].dropna())[1])\n",
    "print('The p-value for the Shapiro-Wilk normality test for the non-data scientists subset is:',\n",
    "      scipy.stats.shapiro(survey_non_ds['YearsCode'].dropna())[1])"
   ]
  },
  {
   "cell_type": "markdown",
   "metadata": {},
   "source": [
    "For both subsets, we reject the null hypothesis that `YearsCode` is normally distributed at the 5% significance level. Therefore, we need to use the Mann-Whitney U-test to compare the two samples."
   ]
  },
  {
   "cell_type": "code",
   "execution_count": 74,
   "metadata": {},
   "outputs": [
    {
     "name": "stdout",
     "output_type": "stream",
     "text": [
      "The p-value for the Mann-Whitney U test comparing the two distributions is: 0.06236141509769714\n"
     ]
    }
   ],
   "source": [
    "# comparing distributions\n",
    "print('The p-value for the Mann-Whitney U test comparing the two distributions is:',\n",
    "      scipy.stats.mannwhitneyu(survey_ds['YearsCode'].dropna(), survey_non_ds['YearsCode'].dropna())[1])"
   ]
  },
  {
   "cell_type": "markdown",
   "metadata": {},
   "source": [
    "The p-value for the Mann-Whitney U test is > 0.05. Therefore, we do not reject the null hypothesis that the distributions of years coding is the same for the data scientists and non-data scientists, at the 5% significance level."
   ]
  },
  {
   "cell_type": "markdown",
   "metadata": {},
   "source": [
    "For number of years of professional coding experience."
   ]
  },
  {
   "cell_type": "code",
   "execution_count": 75,
   "metadata": {},
   "outputs": [
    {
     "name": "stdout",
     "output_type": "stream",
     "text": [
      "The mean number of years coding professionally for Data Scientists is: 7.9 years with a standard deviation of 7.68 years.\n",
      "The mean number of years coding professionally for Non-data Scientists is: 8.02 years with a standard deviation of 7.35 years.\n"
     ]
    }
   ],
   "source": [
    "# calculating summary statistics\n",
    "\n",
    "print('The mean number of years coding professionally for Data Scientists is:', round(survey_ds['YearsCodePro'].mean(), 2), \"years with a standard deviation of\", round(survey_ds['YearsCodePro'].std(), 2), \"years.\")\n",
    "print('The mean number of years coding professionally for Non-data Scientists is:', round(survey_non_ds['YearsCodePro'].mean(), 2), \"years with a standard deviation of\", round(survey_non_ds['YearsCodePro'].std(), 2), \"years.\")\n"
   ]
  },
  {
   "cell_type": "code",
   "execution_count": 76,
   "metadata": {},
   "outputs": [
    {
     "name": "stdout",
     "output_type": "stream",
     "text": [
      "The p-value for the Shapiro-Wilk normality test for the data scientists subset is: 0.0\n",
      "The p-value for the Shapiro-Wilk normality test for the non-data scientists subset is: 0.0\n"
     ]
    }
   ],
   "source": [
    "# checking for normality of distributions\n",
    "print('The p-value for the Shapiro-Wilk normality test for the data scientists subset is:',\n",
    "      scipy.stats.shapiro(survey_ds['YearsCodePro'].dropna())[1])\n",
    "print('The p-value for the Shapiro-Wilk normality test for the non-data scientists subset is:',\n",
    "      scipy.stats.shapiro(survey_non_ds['YearsCodePro'].dropna())[1])"
   ]
  },
  {
   "cell_type": "markdown",
   "metadata": {},
   "source": [
    "For both subsets, we reject the null hypothesis that `YearsCodePro` is normally distributed at the 5% significance level. Therefore, we need to use the Mann-Whitney U-test to compare the two samples."
   ]
  },
  {
   "cell_type": "code",
   "execution_count": 77,
   "metadata": {},
   "outputs": [
    {
     "name": "stdout",
     "output_type": "stream",
     "text": [
      "The p-value for the Mann-Whitney U test comparing the two distributions is: 0.0006911307406002109\n"
     ]
    }
   ],
   "source": [
    "# comparing distributions\n",
    "print('The p-value for the Mann-Whitney U test comparing the two distributions is:',\n",
    "      scipy.stats.mannwhitneyu(survey_ds['YearsCodePro'].dropna(), survey_non_ds['YearsCodePro'].dropna())[1])"
   ]
  },
  {
   "cell_type": "markdown",
   "metadata": {},
   "source": [
    "The p-value for the Mann-Whitney U test is < 0.05. Therefore, we reject the null hypothesis that the distributions of years coding professionally is the same for the data scientists and non-data scientists, at the 5% significance level."
   ]
  },
  {
   "cell_type": "markdown",
   "metadata": {},
   "source": [
    "#### _Ans: The Years of coding expeirnece in general  seem to be the same between Data Scientists and Non-data Scientists but it is not the case when it comes to years of professional coding experience. According to the mean, Non-data scientists seem to have slightly more experience. However, we cannot say for sure whether it is definitely higher or lower._"
   ]
  },
  {
   "cell_type": "markdown",
   "metadata": {},
   "source": [
    "#### _Q: Are Data Scientists more satisfied with their jobs/careers than Non-data Scientists?_"
   ]
  },
  {
   "cell_type": "code",
   "execution_count": 78,
   "metadata": {},
   "outputs": [
    {
     "name": "stdout",
     "output_type": "stream",
     "text": [
      "                               JobSat  Non-data Scientist  Data Scientist\n",
      "0                   Very dissatisfied            0.067699        0.069122\n",
      "1               Slightly dissatisfied            0.151893        0.124133\n",
      "2  Neither satisfied nor dissatisfied            0.121362        0.121741\n",
      "3                  Slightly satisfied            0.344365        0.331021\n",
      "4                      Very satisfied            0.314682        0.353982\n"
     ]
    }
   ],
   "source": [
    "# creating summary dataframe\n",
    "job_sat_props = create_summary(survey_ds, survey_non_ds, 'JobSat',  index_order = ['Very dissatisfied',\n",
    "                'Slightly dissatisfied', 'Neither satisfied nor dissatisfied', \n",
    "                'Slightly satisfied', 'Very satisfied'], drop = False)\n",
    "\n",
    "print(job_sat_props)"
   ]
  },
  {
   "cell_type": "markdown",
   "metadata": {},
   "source": [
    "Our null hypothesis is: **Data scientists and non-data scientists are equally satisfied with their jobs/careers**."
   ]
  },
  {
   "cell_type": "code",
   "execution_count": 79,
   "metadata": {},
   "outputs": [
    {
     "data": {
      "image/png": "[encoded data removed]",
      "text/plain": [
       "<Figure size 360x360 with 1 Axes>"
      ]
     },
     "metadata": {
      "needs_background": "light"
     },
     "output_type": "display_data"
    }
   ],
   "source": [
    "# creating comparison plot\n",
    "create_bar_plot(job_sat_props, 'JobSat', 'Job Satisfaction', \n",
    "                'Job Satisfaction Distribution by Developer Type', rot = 90)"
   ]
  },
  {
   "cell_type": "code",
   "execution_count": 80,
   "metadata": {},
   "outputs": [
    {
     "name": "stdout",
     "output_type": "stream",
     "text": [
      "The mean job satisfaction score of data scientists is: 3.78 with a standard deviation of 1.24\n",
      "The mean job satisfaction score of non-data scientists is: 3.69 with a standard deviation of 1.25\n"
     ]
    }
   ],
   "source": [
    "# calculating summary statistics\n",
    "print('The mean job satisfaction score of data scientists is:', round(survey_ds['JobSat_Num'].mean(), 2), \"with a standard deviation of\", round(survey_ds['JobSat_Num'].std(), 2))\n",
    "print('The mean job satisfaction score of non-data scientists is:', round(survey_non_ds['JobSat_Num'].mean(), 2), \"with a standard deviation of\", round(survey_non_ds['JobSat_Num'].std(), 2))"
   ]
  },
  {
   "cell_type": "code",
   "execution_count": 81,
   "metadata": {},
   "outputs": [
    {
     "name": "stdout",
     "output_type": "stream",
     "text": [
      "The p-value for the Shapiro-Wilk normality test for the data scientists subset is: 0.0\n",
      "The p-value for the Shapiro-Wilk normality test for the non-data scientists subset is: 0.0\n"
     ]
    }
   ],
   "source": [
    "# checking for normality of distributions\n",
    "print('The p-value for the Shapiro-Wilk normality test for the data scientists subset is:',\n",
    "      scipy.stats.shapiro(survey_ds['JobSat_Num'].dropna())[1])\n",
    "print('The p-value for the Shapiro-Wilk normality test for the non-data scientists subset is:',\n",
    "      scipy.stats.shapiro(survey_non_ds['JobSat_Num'].dropna())[1])"
   ]
  },
  {
   "cell_type": "markdown",
   "metadata": {},
   "source": [
    "For both subsets, we reject the null hypothesis that `JobSat_Num` is normally distributed at the 5% significance level. Therefore, we need to use the Mann-Whitney U-test to compare the two samples."
   ]
  },
  {
   "cell_type": "code",
   "execution_count": 82,
   "metadata": {},
   "outputs": [
    {
     "name": "stdout",
     "output_type": "stream",
     "text": [
      "The p-value for the Mann-Whitney U test comparing the two distributions is: 2.1255331039641703e-07\n"
     ]
    }
   ],
   "source": [
    "# comparing distributions\n",
    "print('The p-value for the Mann-Whitney U test comparing the two distributions is:',\n",
    "      scipy.stats.mannwhitneyu(survey_ds['JobSat_Num'].dropna(), survey_non_ds['JobSat_Num'].dropna())[1])"
   ]
  },
  {
   "cell_type": "markdown",
   "metadata": {},
   "source": [
    "The p-value for the Mann-Whitney U test is < 0.05. Therefore, we reject the null hypothesis that the data scientists and non-data scientists are equally satisfied with their jobs, at the 5% significance level."
   ]
  },
  {
   "cell_type": "code",
   "execution_count": 83,
   "metadata": {},
   "outputs": [
    {
     "name": "stdout",
     "output_type": "stream",
     "text": [
      "                            CareerSat  Non-data Scientist  Data Scientist\n",
      "0                   Very dissatisfied            0.050767        0.054204\n",
      "1               Slightly dissatisfied            0.102863        0.088719\n",
      "2  Neither satisfied nor dissatisfied            0.094870        0.088719\n",
      "3                  Slightly satisfied            0.345614        0.328700\n",
      "4                      Very satisfied            0.405886        0.439657\n"
     ]
    }
   ],
   "source": [
    "# creating summary dataframe\n",
    "career_sat_props = create_summary(survey_ds, survey_non_ds, 'CareerSat',  index_order = ['Very dissatisfied',\n",
    "                'Slightly dissatisfied', 'Neither satisfied nor dissatisfied', \n",
    "                'Slightly satisfied', 'Very satisfied'], drop = False)\n",
    "\n",
    "print(career_sat_props)"
   ]
  },
  {
   "cell_type": "code",
   "execution_count": 84,
   "metadata": {},
   "outputs": [
    {
     "data": {
      "image/png": "[encoded data removed]",
      "text/plain": [
       "<Figure size 360x360 with 1 Axes>"
      ]
     },
     "metadata": {
      "needs_background": "light"
     },
     "output_type": "display_data"
    }
   ],
   "source": [
    "# creating comparison plot\n",
    "create_bar_plot(career_sat_props, 'CareerSat', 'Career Satisfaction', \n",
    "                'Career Satisfaction Distribution by Developer Type', rot = 90)"
   ]
  },
  {
   "cell_type": "code",
   "execution_count": 85,
   "metadata": {},
   "outputs": [
    {
     "name": "stdout",
     "output_type": "stream",
     "text": [
      "The mean career satisfaction score of data scientists is: 4.01 with a standard deviation of 1.17\n",
      "The mean career satisfaction score of non-data scientists is: 3.95 with a standard deviation of 1.17\n"
     ]
    }
   ],
   "source": [
    "# calculating summary statistics\n",
    "print('The mean career satisfaction score of data scientists is:', round(survey_ds['CareerSat_Num'].mean(), 2), \"with a standard deviation of\", round(survey_ds['CareerSat_Num'].std(), 2))\n",
    "print('The mean career satisfaction score of non-data scientists is:', round(survey_non_ds['CareerSat_Num'].mean(), 2), \"with a standard deviation of\", round(survey_non_ds['CareerSat_Num'].std(), 2))"
   ]
  },
  {
   "cell_type": "code",
   "execution_count": 86,
   "metadata": {},
   "outputs": [
    {
     "name": "stdout",
     "output_type": "stream",
     "text": [
      "The p-value for the Shapiro-Wilk normality test for the data scientists subset is: 0.0\n",
      "The p-value for the Shapiro-Wilk normality test for the non-data scientists subset is: 0.0\n"
     ]
    }
   ],
   "source": [
    "# checking for normality of distributions\n",
    "print('The p-value for the Shapiro-Wilk normality test for the data scientists subset is:',\n",
    "      scipy.stats.shapiro(survey_ds['CareerSat_Num'].dropna())[1])\n",
    "print('The p-value for the Shapiro-Wilk normality test for the non-data scientists subset is:',\n",
    "      scipy.stats.shapiro(survey_non_ds['CareerSat_Num'].dropna())[1])"
   ]
  },
  {
   "cell_type": "markdown",
   "metadata": {},
   "source": [
    "For both subsets, we reject the null hypothesis that `CareerSat_Num` is normally distributed at the 5% significance level. Therefore, we need to use the Mann-Whitney U-test to compare the two samples."
   ]
  },
  {
   "cell_type": "code",
   "execution_count": 87,
   "metadata": {},
   "outputs": [
    {
     "name": "stdout",
     "output_type": "stream",
     "text": [
      "The p-value for the Mann-Whitney U test comparing the two distributions is: 3.0402436333955144e-05\n"
     ]
    }
   ],
   "source": [
    "# comparing distributions\n",
    "print('The p-value for the Mann-Whitney U test comparing the two distributions is:',\n",
    "      scipy.stats.mannwhitneyu(survey_ds['CareerSat_Num'].dropna(), \n",
    "                               survey_non_ds['CareerSat_Num'].dropna())[1])"
   ]
  },
  {
   "cell_type": "markdown",
   "metadata": {},
   "source": [
    "The p-value for the Mann-Whitney U test is < 0.05. Therefore, we reject the null hypothesis that the data scientists and non-data scientists are equally satisfied with their careers, at the 5% significance level."
   ]
  },
  {
   "cell_type": "markdown",
   "metadata": {},
   "source": [
    "#### _Ans: Data scientists are more satisfied with their jobs/careers._"
   ]
  },
  {
   "cell_type": "markdown",
   "metadata": {},
   "source": [
    "### Can we predict the salary of Data Scientists?"
   ]
  },
  {
   "cell_type": "markdown",
   "metadata": {},
   "source": [
    "Lastly, we attempt to determine whether the annual salary of a data scientist an be determined by a group of factors that we think might be good predictors."
   ]
  },
  {
   "cell_type": "markdown",
   "metadata": {},
   "source": [
    "#### _Q: Is a linear regression model a suitable model to predict the salary of Data Scientists?_"
   ]
  },
  {
   "cell_type": "markdown",
   "metadata": {},
   "source": [
    "We are going to test whether the salary of Data Scientists depend on a multitude of factors we choose based on intuition and domain knowledge. Our initial assumption is that the following are the main predictors of salary:\n",
    "* `Country`: Country\n",
    "* `EdLevel`: Highest level of education\n",
    "* `DevType`: Developer type\n",
    "* `Gender`: Gender\n",
    "* `Ethnicity`: Ethnicity\n",
    "* `UndergradMajor`: Major as an undergraduate\n",
    "* `YearsCode`: Years of coding experience\n",
    "* `YearsCodePro`: years of professional coding experience\n",
    "* `WorkWeekHrs`: Hours/week of work\n",
    "* `Age`: Age\n",
    "\n",
    "We are trying estimate the linear relationship of the above factors with:\n",
    "* `ConvertedComp`: Annual salary for 12 work months and 50 work weeks converted to USD"
   ]
  },
  {
   "cell_type": "code",
   "execution_count": 88,
   "metadata": {},
   "outputs": [],
   "source": [
    "# removing missing values from the ConvertedComp column since it is our target variable\n",
    "survey_ds = survey_ds.dropna(subset = ['ConvertedComp'], axis = 0)\n"
   ]
  },
  {
   "cell_type": "code",
   "execution_count": 89,
   "metadata": {},
   "outputs": [],
   "source": [
    "# focusing on a subset of our variables to build our model\n",
    "\n",
    "predictors = ['Country', \n",
    "              'EdLevel', \n",
    "              'DevType',\n",
    "              'Gender', \n",
    "              'Ethnicity', \n",
    "              'UndergradMajor', \n",
    "              'YearsCode', \n",
    "              'YearsCodePro', \n",
    "              'WorkWeekHrs', \n",
    "              'Age',\n",
    "              'JobSat',\n",
    "              'CareerSat',\n",
    "              'ConvertedComp']\n",
    "\n",
    "survey_ds_subset = survey_ds.loc[:,predictors]"
   ]
  },
  {
   "cell_type": "code",
   "execution_count": 90,
   "metadata": {},
   "outputs": [],
   "source": [
    "# encoding columns\n",
    "for c in ['Country', 'EdLevel', 'DevType', 'Gender', 'Ethnicity', 'UndergradMajor', 'JobSat', 'CareerSat']:\n",
    "    survey_ds_subset = pd.concat([survey_ds_subset, survey_ds_subset[c].str.get_dummies(sep = ';')], axis = 1)\n",
    "    survey_ds_subset.drop(c, inplace = True, axis = 1)"
   ]
  },
  {
   "cell_type": "code",
   "execution_count": 91,
   "metadata": {},
   "outputs": [],
   "source": [
    "# imputing missing values for the ConvertedComp column\n",
    "\n",
    "survey_ds_subset['ConvertedComp'] = survey_ds_subset['ConvertedComp'].fillna(survey_ds_subset['ConvertedComp'].median())\n",
    "\n",
    "# creating dummy variables, dropping one level since they will be used in linear regression\n",
    "survey_ds_dummies = pd.get_dummies(survey_ds_subset, drop_first = True)"
   ]
  },
  {
   "cell_type": "code",
   "execution_count": 92,
   "metadata": {},
   "outputs": [
    {
     "name": "stdout",
     "output_type": "stream",
     "text": [
      "The R2 score on the train set is 0.16 and 0.26 on the test set with linear regression.\n"
     ]
    }
   ],
   "source": [
    "# separating our predictor from our target variable\n",
    "X = survey_ds_dummies.drop(labels = 'ConvertedComp', axis = 1)\n",
    "Y = survey_ds_dummies['ConvertedComp']\n",
    "\n",
    "# building our model\n",
    "X_train, X_test, Y_train, Y_test = train_test_split(X, Y, test_size = 0.2, random_state = 42)\n",
    "\n",
    "# Linear Regression\n",
    "model_train = sm.OLS(Y_train, X_train, missing='drop')\n",
    "results1 = model_train.fit()\n",
    "\n",
    "model_test = sm.OLS(Y_test, X_test, missing='drop')\n",
    "results2 = model_test.fit()\n",
    "\n",
    "lm_y_test_preds = results2.predict(X_test)\n",
    "lm_y_train_preds = results1.predict(X_train)\n",
    "\n",
    "\n",
    "print(\"The R2 score on the train set is {} and {} on the test set with linear regression.\".format(round(results1.rsquared, 2), round(results2.rsquared, 2)))\n"
   ]
  },
  {
   "cell_type": "markdown",
   "metadata": {},
   "source": [
    "#### _Ans: With such low $r^2$ values, we cannot confidently say that a linear regression model is a good fit to predict the salary of Data Scientists._"
   ]
  },
  {
   "cell_type": "markdown",
   "metadata": {},
   "source": [
    "This is a question we leave for further exploration in future projects."
   ]
  },
  {
   "cell_type": "markdown",
   "metadata": {},
   "source": [
    "### Potential Problems with dataset"
   ]
  },
  {
   "cell_type": "markdown",
   "metadata": {},
   "source": [
    "* The results submitted to the survey may not be representative. Approximately 400 responses were submitted where respondents spent less than three minutes on the survey. The median time spent on the survey for qualified responses was 23.3 minutes. \n",
    "* Not all those who use Stack Overflow are represented by this data. It is representative only of that demographic which consists of people most engaged with the platform.\n",
    "* The survey wasn't accessible to the entire world in 2019. Traffic from Crimea, Cuba, Iran, North Korea, and Syria was blocked by Stack Overflow's third party survey software due to United States transport/export sanctions at the time, although some respondents used VPNs to avoid this. This unanticipated limitation of the survey should be kept in mind when interpreting survey results.\n",
    "* Most of the data is categorical. This poses problems in trying to fit the data into common models and quantifying general results. In order to overcome this problem, extensive use of dummy variables are needed. **Filtering is done as the analysis progresses**.\n",
    "* Since most of the questions were not mandatory to be filled out by the participants, there are lots of null and NaN values that either have to be filtered out or be taken into account while interpreting results. \n",
    "* Respondents were asked about their salary. First, they were asked what currency each respondent typically used. Then they were asked what their salary was in that currency, and whether that salary was weekly, monthly, or yearly.\n",
    "    * Stack Overflow converted salaries from user currencies to USD using the exchange rate on 2019-02-01, and also converted to annual salaries assuming 12 working months and 50 working weeks.\n",
    "    * This question, like most on the survey, was optional. There were 55,945 respondents (62.9% of qualified respondents) who gave Stack Overflow salary data.\n",
    "    * The top approximately 2% of salaries inside and outside of the US were trimmed and replaced with threshold values. The threshold values for inside and outside the US were different.\n",
    "* Many questions were only shown to respondents based on their previous answers. For example, questions about jobs and work were only shown to those who said they were working in a job.\n",
    "\n",
    "_Information source: [Stack Overflow](https://insights.stackoverflow.com/survey/2019)._"
   ]
  },
  {
   "cell_type": "markdown",
   "metadata": {},
   "source": [
    "## Conclusion "
   ]
  },
  {
   "cell_type": "markdown",
   "metadata": {},
   "source": [
    "What did you find over the course of your data analysis, and how confident are you in these conclusions? \n",
    "\n",
    "Interpret these results in the wider context of the real-life application from where your data hails.\n",
    "___\n",
    "In 2012, the [Harvard Business Review](https://hbr.org/2012/10/data-scientist-the-sexiest-job-of-the-21st-century) named Data Scientist the \"sexiest job of the 21st century\", and since then, \"Data Scientist\" has featured in numerous top job lists, including [Glassdoor's best jobs in America list](https://www.forbes.com/sites/louiscolumbus/2018/01/29/data-scientist-is-the-best-job-in-america-according-glassdoors-2018-rankings/#1f57b7ad5535) of 2018, which has placed Data Scientist at number 1 position for the past five years. However, is being in the best job in America really any better than being in any other developer role, and has the sudden popularity of this profession made any impact on the types of people entering it? That is the big question I attempted to answer in this analysis.\n",
    "\n",
    "While some of my findings were predicatable, others were quite interesting. Regardless, all the results were very insightful for anyone looking to break into tech, especially data science. \n",
    "\n",
    "A high-level look at data from the developer community showed some clear trends when it came to preferred languages and web frameworks, code review practices, annual salaries in different countries, and so on. For instance, we found that:\n",
    "* Full-stack developer is the most popular job among those who answered this survey\n",
    "* Most developers have coding as one of their hobbies\n",
    "* JavaScript is the most popular language among developers\n",
    "* jQuery is the most popular web framework developers like to work with\n",
    "* Contributing to open source project is not very popular among developers\n",
    "* Most developers are quite satisfied with their jobs, with Americans being most satisfied and also most paid\n",
    "* Code review is valued in the developer community and widely practiced\n",
    "\n",
    "The main takeaways from the first half of the analysis were the skills, technologies, and good practices that one needs to have to do well as a developer.\n",
    "\n",
    "When it came to analysing the differences between data scientists and non-data scientists, I answered some questions frequently asked and pondered over by those new or outside the field:\n",
    "\n",
    "1. How does the demographic profile of data scientists differ from that of non-data scientists?\n",
    "\n",
    "With regard to age and gender, there is little difference between the demographic profiles of data scientists and non-data scientists, although data scientists tend to be slightly older than non-data scientists. However, with regard to education, data scientists are more likely to hold an advanced degree than their non-data scientist counterparts.\n",
    "\n",
    "2. What programming languages do data scientists favour and how do they differ from those used by non-data scientists?\n",
    "\n",
    "There are significant overlaps between the languages favoured by data scientists and non-data scientists. However, data scientists are more likely to program in languages designed for or with libraries for statistical analysis and modelling, such as Python, or R, whereas non-data scientists are more likely to program in languages designed for (production) software or website development, such as HTML, CSS and JavaScript.\n",
    "\n",
    "3. How much coding experience do data scientists have compared to non-data scientists?\n",
    "\n",
    "Data scientists typically have more years of coding experience than non-data scientists, both informally, and professionally.\n",
    "\n",
    "4. Are data scientists more satisfied with their jobs/careers than non-data scientists?\n",
    "\n",
    "Data scientists are significantly more satisfied with both their jobs and their careers than non-data scientists. However, both groups tend to enjoy high levels of satisfaction in their jobs/careers, with about 75% of data scientists and non-data scientists being at least slightly satisfied with their jobs, and again about 75% of data scientists and non-data scientists being at least slightly satisfied with their careers.\n",
    "\n",
    "**In conclusion, data science still remains one of the most sought after, high-rewarding, and lucrative fields to break into. Given the results found in my analysis, I am very confident in advising anyone to consider a career in the field. The numbers are reliable, encourging, and speak for themselves.**\n"
   ]
  },
  {
   "cell_type": "markdown",
   "metadata": {},
   "source": [
    "## Source Code "
   ]
  },
  {
   "cell_type": "markdown",
   "metadata": {},
   "source": [
    "Provide a link to your Github repository (or other file hosting site) that has all of your project code (if applicable). \n",
    "___\n",
    "All my code is avaialble at [this](https://github.coecis.cornell.edu/og58/INFO2950-Project) private Cornell GitHub repository.\n",
    "\n",
    "Code reference for comparing the distribution of the two subsets (data scientists and non-data scientists) for a specified column: https://stackoverflow.com/questions/20461165/how-to-convert-pandas-index-in-a-dataframe-to-a-column\n",
    "\n",
    "Source code for function for plotting salary distributions of the top 10 most represented countries: adapted from code written by [Modingwa](https://github.com/Modingwa/Stack-Overflow-2019-Survey-Analysis/blob/master/2019%20Stack%20Overflow%20Survey%20Analysis.ipynb)"
   ]
  },
  {
   "cell_type": "markdown",
   "metadata": {},
   "source": [
    "## Acknowledgements "
   ]
  },
  {
   "cell_type": "markdown",
   "metadata": {},
   "source": [
    "Recognize any people or online resources that you found helpful. These can be tutorials, software packages, Stack Overflow questions, peers, and data sources. \n",
    "___\n",
    "Primary acknowledgement goes to [Stack Overflow](https://insights.stackoverflow.com/survey/2019)."
   ]
  }
 ],
 "metadata": {
  "kernelspec": {
   "display_name": "Python 3",
   "language": "python",
   "name": "python3"
  },
  "language_info": {
   "codemirror_mode": {
    "name": "ipython",
    "version": 3
   },
   "file_extension": ".py",
   "mimetype": "text/x-python",
   "name": "python",
   "nbconvert_exporter": "python",
   "pygments_lexer": "ipython3",
   "version": "3.7.4"
  }
 },
 "nbformat": 4,
 "nbformat_minor": 2
}
